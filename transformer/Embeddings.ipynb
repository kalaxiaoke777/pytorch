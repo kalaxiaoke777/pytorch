{
 "cells": [
  {
   "cell_type": "code",
   "id": "initial_id",
   "metadata": {
    "collapsed": true,
    "ExecuteTime": {
     "end_time": "2025-04-07T08:59:10.940285Z",
     "start_time": "2025-04-07T08:59:10.932798Z"
    }
   },
   "source": [
    "# 导入必备的工具包\n",
    "import torch\n",
    "\n",
    "# 预定义的网络层torch.nn, 工具开发者已经帮助我们开发好的一些常用层,\n",
    "# 比如，卷积层, lstm层, embedding层等, 不需要我们再重新造轮子.\n",
    "import torch.nn as nn\n",
    "\n",
    "# 数学计算工具包\n",
    "import math\n",
    "\n",
    "# torch中变量封装函数Variable.\n",
    "from torch.autograd import Variable"
   ],
   "outputs": [],
   "execution_count": 62
  },
  {
   "metadata": {
    "ExecuteTime": {
     "end_time": "2025-04-07T08:59:10.976484Z",
     "start_time": "2025-04-07T08:59:10.968214Z"
    }
   },
   "cell_type": "code",
   "source": [
    "class Embadding(nn.Module):\n",
    "    def __init__(self, vocab_size, embed_size):\n",
    "        super(Embadding, self).__init__()\n",
    "\n",
    "        self.lut = nn.Embedding(vocab_size, embed_size)\n",
    "        self.embed_size = embed_size\n",
    "    def forward(self, input):\n",
    "        return self.lut(input) * math.sqrt(self.embed_size)"
   ],
   "id": "201c409ddbb7a0ef",
   "outputs": [],
   "execution_count": 63
  },
  {
   "metadata": {
    "ExecuteTime": {
     "end_time": "2025-04-07T08:59:11.053242Z",
     "start_time": "2025-04-07T08:59:11.036746Z"
    }
   },
   "cell_type": "code",
   "source": [
    "embadding = Embadding(1000,128)\n",
    "# 这个不能超过vocab_size\n",
    "input = torch.LongTensor([[1,2,4,5],[4,3,2,9],[1,4,999,9]])\n",
    "x = embadding(input)"
   ],
   "id": "8bd0d7f7e3a8a0c7",
   "outputs": [],
   "execution_count": 64
  },
  {
   "metadata": {
    "ExecuteTime": {
     "end_time": "2025-04-09T14:15:09.109014Z",
     "start_time": "2025-04-09T14:15:08.819107Z"
    }
   },
   "cell_type": "code",
   "source": [
    "class PositionalEncoding(nn.Module):\n",
    "    def __init__(self, embed_dim, max_len=5000):\n",
    "        \"\"\"\n",
    "        embed_dim: 嵌入维度\n",
    "        max_len: 序列的最大长度\n",
    "        \"\"\"\n",
    "        super(PositionalEncoding, self).__init__()\n",
    "        self.embed_dim = embed_dim\n",
    "        self.dropout = nn.Dropout(0.2)\n",
    "\n",
    "        # 创建位置编码矩阵\n",
    "        pe = torch.zeros(max_len, embed_dim)\n",
    "        position = torch.arange(0, max_len, dtype=torch.float).unsqueeze(1)\n",
    "        div_term = torch.exp(torch.arange(0, embed_dim, 2) *\n",
    "                             -(math.log(10000.0) / embed_dim))\n",
    "        pe[:, 0::2] = torch.sin(position * div_term)\n",
    "        pe[:, 1::2] = torch.cos(position * div_term)\n",
    "        pe = pe.unsqueeze(0)\n",
    "        self.register_buffer('pe', pe)\n",
    "    def forward(self, input):\n",
    "        return self.dropout(input + Variable(self.pe[:, :input.size(1)],requires_grad=False))\n",
    "ps = PositionalEncoding(128)\n",
    "ps(x),x"
   ],
   "id": "cf6641d0d16d0ed3",
   "outputs": [
    {
     "ename": "NameError",
     "evalue": "name 'nn' is not defined",
     "output_type": "error",
     "traceback": [
      "\u001B[1;31m---------------------------------------------------------------------------\u001B[0m",
      "\u001B[1;31mNameError\u001B[0m                                 Traceback (most recent call last)",
      "Cell \u001B[1;32mIn[1], line 1\u001B[0m\n\u001B[1;32m----> 1\u001B[0m \u001B[38;5;28;01mclass\u001B[39;00m \u001B[38;5;21;01mPositionalEncoding\u001B[39;00m(nn\u001B[38;5;241m.\u001B[39mModule):\n\u001B[0;32m      2\u001B[0m     \u001B[38;5;28;01mdef\u001B[39;00m \u001B[38;5;21m__init__\u001B[39m(\u001B[38;5;28mself\u001B[39m, embed_dim, max_len\u001B[38;5;241m=\u001B[39m\u001B[38;5;241m5000\u001B[39m):\n\u001B[0;32m      3\u001B[0m \u001B[38;5;250m        \u001B[39m\u001B[38;5;124;03m\"\"\"\u001B[39;00m\n\u001B[0;32m      4\u001B[0m \u001B[38;5;124;03m        embed_dim: 嵌入维度\u001B[39;00m\n\u001B[0;32m      5\u001B[0m \u001B[38;5;124;03m        max_len: 序列的最大长度\u001B[39;00m\n\u001B[0;32m      6\u001B[0m \u001B[38;5;124;03m        \"\"\"\u001B[39;00m\n",
      "\u001B[1;31mNameError\u001B[0m: name 'nn' is not defined"
     ]
    }
   ],
   "execution_count": 1
  },
  {
   "metadata": {
    "ExecuteTime": {
     "end_time": "2025-04-09T14:36:44.844122Z",
     "start_time": "2025-04-09T14:36:44.813771Z"
    }
   },
   "cell_type": "code",
   "source": [
    "import torch\n",
    "import torch.nn as nn\n",
    "import torch.nn.functional as F\n",
    "import math\n",
    "\n",
    "class MultiheadAttention(nn.Module):\n",
    "    def __init__(self, d_model, num_heads, dropout=0.1):\n",
    "        \"\"\"\n",
    "        初始化MultiheadAttention模块\n",
    "        参数:\n",
    "            d_model (int): 嵌入向量的维度\n",
    "            num_heads (int): 注意力头的数量\n",
    "            dropout (float): dropout比例，默认值为0.1\n",
    "        \"\"\"\n",
    "        super(MultiheadAttention, self).__init__()\n",
    "        # 确保d_model能被num_heads整除\n",
    "        assert d_model % num_heads == 0, \"d_model must be divisible by num_heads\"\n",
    "        self.d_model = d_model\n",
    "        self.num_heads = num_heads\n",
    "        self.d_k = d_model // num_heads  # 每个头的维度\n",
    "\n",
    "        # 定义线性层，用于生成Q、K、V\n",
    "        self.w_q = nn.Linear(d_model, d_model)\n",
    "        self.w_k = nn.Linear(d_model, d_model)\n",
    "        self.w_v = nn.Linear(d_model, d_model)\n",
    "        # 定义输出线性层\n",
    "        self.w_o = nn.Linear(d_model, d_model)\n",
    "        # 定义dropout层\n",
    "        self.dropout = nn.Dropout(dropout)\n",
    "\n",
    "    def forward(self, query, key, value, mask=None):\n",
    "        \"\"\"\n",
    "        前向传播\n",
    "        参数:\n",
    "            query (Tensor): 查询张量，形状为(batch_size, seq_len_q, d_model)\n",
    "            key (Tensor): 键张量，形状为(batch_size, seq_len_k, d_model)\n",
    "            value (Tensor): 值张量，形状为(batch_size, seq_len_v, d_model)\n",
    "            mask (Tensor, optional): 掩码张量，形状为(batch_size, seq_len_q, seq_len_k)\n",
    "        返回:\n",
    "            Tensor: 注意力输出，形状为(batch_size, seq_len_q, d_model)\n",
    "        \"\"\"\n",
    "        batch_size = query.size(0)\n",
    "\n",
    "        # 1. 通过线性层生成Q、K、V\n",
    "        Q = self.w_q(query)  # (batch_size, seq_len_q, d_model)\n",
    "        K = self.w_k(key)    # (batch_size, seq_len_k, d_model)\n",
    "        V = self.w_v(value)  # (batch_size, seq_len_v, d_model)\n",
    "\n",
    "        # 2. 将Q、K、V分割成多个头\n",
    "        Q = Q.view(batch_size, -1, self.num_heads, self.d_k).transpose(1, 2)  # (batch_size, num_heads, seq_len_q, d_k)\n",
    "        K = K.view(batch_size, -1, self.num_heads, self.d_k).transpose(1, 2)  # (batch_size, num_heads, seq_len_k, d_k)\n",
    "        V = V.view(batch_size, -1, self.num_heads, self.d_k).transpose(1, 2)  # (batch_size, num_heads, seq_len_v, d_k)\n",
    "\n",
    "        # 3. 计算注意力分数\n",
    "        scores = torch.matmul(Q, K.transpose(-2, -1)) / math.sqrt(self.d_k)  # (batch_size, num_heads, seq_len_q, seq_len_k)\n",
    "\n",
    "        # 4. 如果提供了掩码，则应用掩码\n",
    "        if mask is not None:\n",
    "            scores = scores.masked_fill(mask == 0, -1e9)\n",
    "\n",
    "        # 5. 计算注意力权重\n",
    "        attn_weights = F.softmax(scores, dim=-1)\n",
    "        attn_weights = self.dropout(attn_weights)\n",
    "\n",
    "        # 6. 使用注意力权重对V进行加权求和\n",
    "        attn_output = torch.matmul(attn_weights, V)  # (batch_size, num_heads, seq_len_q, d_k)\n",
    "\n",
    "        # 7. 合并多头输出\n",
    "        attn_output = attn_output.transpose(1, 2).contiguous().view(batch_size, -1, self.d_model)  # (batch_size, seq_len_q, d_model)\n",
    "\n",
    "        # 8. 通过输出线性层得到最终结果\n",
    "        output = self.w_o(attn_output)\n",
    "        return output\n",
    "\n",
    "# 示例使用\n",
    "if __name__ == \"__main__\":\n",
    "    # 定义参数\n",
    "    d_model = 512\n",
    "    num_heads = 8\n",
    "    batch_size = 32\n",
    "    seq_len_q = 10\n",
    "    seq_len_k = 10\n",
    "\n",
    "    # 创建MultiheadAttention实例\n",
    "    mha = MultiheadAttention(d_model, num_heads)\n",
    "\n",
    "    # 生成随机输入张量\n",
    "    query = torch.rand(batch_size, seq_len_q, d_model)\n",
    "    key = torch.rand(batch_size, seq_len_k, d_model)\n",
    "    value = torch.rand(batch_size, seq_len_k, d_model)\n",
    "\n",
    "    # 执行前向传播\n",
    "    output = mha(query, key, value)\n",
    "    print(\"MultiheadAttention输出形状:\", output.shape)"
   ],
   "id": "3908aa15c637551c",
   "outputs": [
    {
     "name": "stdout",
     "output_type": "stream",
     "text": [
      "MultiheadAttention输出形状: torch.Size([32, 10, 512])\n"
     ]
    }
   ],
   "execution_count": 3
  }
 ],
 "metadata": {
  "kernelspec": {
   "display_name": "Python 3",
   "language": "python",
   "name": "python3"
  },
  "language_info": {
   "codemirror_mode": {
    "name": "ipython",
    "version": 2
   },
   "file_extension": ".py",
   "mimetype": "text/x-python",
   "name": "python",
   "nbconvert_exporter": "python",
   "pygments_lexer": "ipython2",
   "version": "2.7.6"
  }
 },
 "nbformat": 4,
 "nbformat_minor": 5
}
