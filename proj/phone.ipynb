{
 "cells": [
  {
   "cell_type": "code",
   "id": "initial_id",
   "metadata": {
    "collapsed": true,
    "ExecuteTime": {
     "end_time": "2025-04-03T09:38:18.751291Z",
     "start_time": "2025-04-03T09:38:18.745299Z"
    }
   },
   "source": [
    "import pandas as pd\n",
    "import numpy as np\n",
    "import torch\n",
    "from sklearn.model_selection import train_test_split\n",
    "from torch.utils.data import TensorDataset\n",
    "import torch.nn as nn\n",
    "from torch.utils.data import DataLoader\n",
    "from sklearn.preprocessing import StandardScaler\n",
    "import sklearn"
   ],
   "outputs": [],
   "execution_count": 303
  },
  {
   "metadata": {
    "ExecuteTime": {
     "end_time": "2025-04-03T09:38:18.808072Z",
     "start_time": "2025-04-03T09:38:18.793755Z"
    }
   },
   "cell_type": "code",
   "source": [
    "data = pd.read_csv('../data/手机价格预测.csv')\n",
    "(x,y) = data.iloc[:,:-1],data.iloc[:,-1]\n",
    "x.shape,y.shape"
   ],
   "id": "d8434acd78d2a507",
   "outputs": [
    {
     "data": {
      "text/plain": [
       "((2000, 20), (2000,))"
      ]
     },
     "execution_count": 304,
     "metadata": {},
     "output_type": "execute_result"
    }
   ],
   "execution_count": 304
  },
  {
   "metadata": {
    "ExecuteTime": {
     "end_time": "2025-04-03T09:38:18.850820Z",
     "start_time": "2025-04-03T09:38:18.833392Z"
    }
   },
   "cell_type": "code",
   "source": [
    " #数据集划分\n",
    "train_x,test_x,train_y,test_y = train_test_split(x,y,test_size=0.2)\n",
    "train_x = train_x.astype('float32')\n",
    "train_y = train_y.astype('int64')\n",
    "test_x = test_x.astype('float32')\n",
    "test_y = test_y.astype('int64')\n",
    "    #标准化\n",
    "ss = StandardScaler()\n",
    "train_x = ss.fit_transform(train_x)\n",
    "test_x = ss.fit_transform(test_x)\n",
    "\n",
    "#构建循环模型 这里记得要从pd中values出来\n",
    "train_db = TensorDataset(torch.from_numpy(train_x),torch.tensor(train_y.values))\n",
    "test_db = TensorDataset(torch.from_numpy(test_x),torch.tensor(test_y.values))\n",
    "\n",
    "train_db = DataLoader(train_db,shuffle=True,batch_size=8)\n",
    "test_db = DataLoader(test_db,shuffle=True,batch_size=8)\n",
    "\n"
   ],
   "id": "bc1be2350614aa82",
   "outputs": [],
   "execution_count": 305
  },
  {
   "metadata": {
    "ExecuteTime": {
     "end_time": "2025-04-03T09:38:18.889565Z",
     "start_time": "2025-04-03T09:38:18.881915Z"
    }
   },
   "cell_type": "code",
   "source": [
    "#网络层定义\n",
    "class NetWork(nn.Module):\n",
    "    def __init__(self,input_dim,output_dim):\n",
    "        super(NetWork, self).__init__()\n",
    "        self.relu = nn.ReLU()\n",
    "        self.sigmoid = nn.Sigmoid()\n",
    "\n",
    "        self.fc1 = nn.Linear(in_features=input_dim,out_features=256)\n",
    "        self.fc2 = nn.Linear(in_features=256,out_features=512)\n",
    "        self.fc3 = nn.Linear(in_features=512,out_features=256)\n",
    "        self.fc4 = nn.Linear(in_features=256,out_features=128)\n",
    "        self.fc5 = nn.Linear(in_features=128,out_features=output_dim)\n",
    "\n",
    "        self.dropout = nn.Dropout(0.3)\n",
    "    def forward(self,x):\n",
    "        x = self.relu(self.fc1(x))\n",
    "        x = self.dropout(x)\n",
    "        x = self.relu(self.fc2(x))\n",
    "        x = self.dropout(x)\n",
    "        x = self.relu(self.fc3(x))\n",
    "        x = self.dropout(x)\n",
    "        x = self.relu(self.fc4(x))\n",
    "        x = self.fc5(x)\n",
    "        return x"
   ],
   "id": "ae10e3093440493e",
   "outputs": [],
   "execution_count": 306
  },
  {
   "metadata": {
    "ExecuteTime": {
     "end_time": "2025-04-03T09:38:18.944906Z",
     "start_time": "2025-04-03T09:38:18.924378Z"
    }
   },
   "cell_type": "code",
   "source": [
    "model = NetWork(train_x.shape[1],np.unique(train_y).shape[0])\n",
    "# 损失函数\n",
    "criterion = nn.CrossEntropyLoss()\n",
    "# 优化器\n",
    "optim = torch.optim.Adam(model.parameters(),lr=0.0001)\n",
    "\n",
    "# 固定随机数种子\n",
    "torch.manual_seed(0)"
   ],
   "id": "7d8665450d5ebb83",
   "outputs": [
    {
     "data": {
      "text/plain": [
       "<torch._C.Generator at 0x1c2b9121310>"
      ]
     },
     "execution_count": 307,
     "metadata": {},
     "output_type": "execute_result"
    }
   ],
   "execution_count": 307
  },
  {
   "metadata": {
    "ExecuteTime": {
     "end_time": "2025-04-03T09:38:26.833837Z",
     "start_time": "2025-04-03T09:38:18.972149Z"
    }
   },
   "cell_type": "code",
   "source": [
    "for epoch in range(10):\n",
    "    for step, (batch_x, batch_y) in enumerate(train_db):\n",
    "        output = model(batch_x)\n",
    "        loss = criterion(output,batch_y)\n",
    "        optim.zero_grad()\n",
    "        loss.backward()\n",
    "        optim.step()\n",
    "    print(epoch,loss.item())"
   ],
   "id": "86c424f96ed0d62e",
   "outputs": [
    {
     "name": "stdout",
     "output_type": "stream",
     "text": [
      "0 1.2277491092681885\n",
      "1 0.47281894087791443\n",
      "2 0.3069364130496979\n",
      "3 0.3556777238845825\n",
      "4 0.29876047372817993\n",
      "5 0.8077912330627441\n",
      "6 0.6989684104919434\n",
      "7 0.22623923420906067\n",
      "8 0.5951210260391235\n",
      "9 0.06958683580160141\n"
     ]
    }
   ],
   "execution_count": 308
  }
 ],
 "metadata": {
  "kernelspec": {
   "display_name": "Python 3",
   "language": "python",
   "name": "python3"
  },
  "language_info": {
   "codemirror_mode": {
    "name": "ipython",
    "version": 2
   },
   "file_extension": ".py",
   "mimetype": "text/x-python",
   "name": "python",
   "nbconvert_exporter": "python",
   "pygments_lexer": "ipython2",
   "version": "2.7.6"
  }
 },
 "nbformat": 4,
 "nbformat_minor": 5
}
