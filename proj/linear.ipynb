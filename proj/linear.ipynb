{
 "cells": [
  {
   "metadata": {
    "ExecuteTime": {
     "end_time": "2025-04-01T14:33:35.466393Z",
     "start_time": "2025-04-01T14:33:35.097799Z"
    }
   },
   "cell_type": "code",
   "source": [
    "import gzip\n",
    "import pickle\n",
    "import torch\n",
    "from matplotlib import pyplot as plt\n",
    "# 打开文件\n",
    "with gzip.open('../data/mnist/mnist.pkl.gz', 'rb') as f:\n",
    "    # 使用pickle加载数据\n",
    "    ((x_train,y_train),(x_valid,y_valid), test_set) = pickle.load(f, encoding='latin1')"
   ],
   "id": "9a9a1b39ccac083b",
   "outputs": [],
   "execution_count": 28
  },
  {
   "metadata": {
    "ExecuteTime": {
     "end_time": "2025-04-01T14:33:35.494680Z",
     "start_time": "2025-04-01T14:33:35.469316Z"
    }
   },
   "cell_type": "code",
   "source": "(x_train,y_train,x_valid,y_valid) = map(torch.tensor, (x_train,y_train,x_valid,y_valid))",
   "id": "766383beb8a71269",
   "outputs": [],
   "execution_count": 29
  },
  {
   "metadata": {
    "ExecuteTime": {
     "end_time": "2025-04-01T14:33:35.993755Z",
     "start_time": "2025-04-01T14:33:35.503752Z"
    }
   },
   "cell_type": "code",
   "source": "x_train.shape,y_train.shape,x_valid.shape,y_valid.shape",
   "id": "c7e01dd4aa2bfa83",
   "outputs": [
    {
     "data": {
      "text/plain": [
       "(torch.Size([50000, 784]),\n",
       " torch.Size([50000]),\n",
       " torch.Size([10000, 784]),\n",
       " torch.Size([10000]))"
      ]
     },
     "execution_count": 30,
     "metadata": {},
     "output_type": "execute_result"
    }
   ],
   "execution_count": 30
  },
  {
   "metadata": {
    "ExecuteTime": {
     "end_time": "2025-04-01T14:33:36.011374Z",
     "start_time": "2025-04-01T14:33:36.006132Z"
    }
   },
   "cell_type": "code",
   "source": [
    "from torch import nn\n",
    "class Net(nn.Module):\n",
    "    def __init__(self):\n",
    "        super(Net, self).__init__()\n",
    "        self.fc1 = nn.Linear(28*28,256)\n",
    "        self.fc2 = nn.Linear(256, 128)\n",
    "        self.fc3 = nn.Linear(128, 64)\n",
    "        self.out = nn.Linear(64, 10)\n",
    "        self.relu = nn.ReLU()\n",
    "        self.dropout = nn.Dropout(0.5)\n",
    "        self.softmax = nn.Softmax(dim=1)\n",
    "\n",
    "    def forward(self, x):\n",
    "        \"\"\"\n",
    "        前向传播\n",
    "        :param x:【64 X 28 X 28】\n",
    "        :return:\n",
    "        \"\"\"\n",
    "        x = self.relu(self.fc1(x))\n",
    "        x = self.dropout(x)\n",
    "        x = self.relu(self.fc2(x))\n",
    "        x = self.dropout(x)\n",
    "        x = self.relu(self.fc3(x))\n",
    "        x = self.out(x)\n",
    "        return x"
   ],
   "id": "1d29b1b05ef8dfd",
   "outputs": [],
   "execution_count": 31
  },
  {
   "metadata": {
    "ExecuteTime": {
     "end_time": "2025-04-01T14:33:36.025870Z",
     "start_time": "2025-04-01T14:33:36.021759Z"
    }
   },
   "cell_type": "code",
   "source": [
    "model = Net()\n",
    "model"
   ],
   "id": "77e1fdc043681ff",
   "outputs": [
    {
     "data": {
      "text/plain": [
       "Net(\n",
       "  (fc1): Linear(in_features=784, out_features=256, bias=True)\n",
       "  (fc2): Linear(in_features=256, out_features=128, bias=True)\n",
       "  (fc3): Linear(in_features=128, out_features=64, bias=True)\n",
       "  (out): Linear(in_features=64, out_features=10, bias=True)\n",
       "  (relu): ReLU()\n",
       "  (dropout): Dropout(p=0.5, inplace=False)\n",
       "  (softmax): Softmax(dim=1)\n",
       ")"
      ]
     },
     "execution_count": 32,
     "metadata": {},
     "output_type": "execute_result"
    }
   ],
   "execution_count": 32
  },
  {
   "metadata": {
    "ExecuteTime": {
     "end_time": "2025-04-01T14:33:36.036194Z",
     "start_time": "2025-04-01T14:33:36.034041Z"
    }
   },
   "cell_type": "code",
   "source": [
    "for name, para in model.named_parameters():\n",
    "    print(name,para.shape)"
   ],
   "id": "77461e044e74e2ba",
   "outputs": [
    {
     "name": "stdout",
     "output_type": "stream",
     "text": [
      "fc1.weight torch.Size([256, 784])\n",
      "fc1.bias torch.Size([256])\n",
      "fc2.weight torch.Size([128, 256])\n",
      "fc2.bias torch.Size([128])\n",
      "fc3.weight torch.Size([64, 128])\n",
      "fc3.bias torch.Size([64])\n",
      "out.weight torch.Size([10, 64])\n",
      "out.bias torch.Size([10])\n"
     ]
    }
   ],
   "execution_count": 33
  },
  {
   "metadata": {
    "ExecuteTime": {
     "end_time": "2025-04-01T14:33:36.054086Z",
     "start_time": "2025-04-01T14:33:36.044999Z"
    }
   },
   "cell_type": "code",
   "source": [
    "from torch.utils.data import TensorDataset\n",
    "from torch.utils.data import DataLoader\n",
    "bs = 64\n",
    "train_ds = TensorDataset(x_train, y_train)\n",
    "train_dl = DataLoader(train_ds, batch_size=bs, shuffle=True)\n",
    "\n",
    "valid_ds = TensorDataset(x_valid, y_valid)\n",
    "valid_dl = DataLoader(valid_ds, batch_size=bs * 2)"
   ],
   "id": "2c603368e049e1be",
   "outputs": [],
   "execution_count": 34
  },
  {
   "metadata": {
    "ExecuteTime": {
     "end_time": "2025-04-01T14:33:36.063608Z",
     "start_time": "2025-04-01T14:33:36.060763Z"
    }
   },
   "cell_type": "code",
   "source": [
    "from torch import optim\n",
    "\"定义激活函数\"\n",
    "optim = optim.Adam(model.parameters(),lr=0.001)"
   ],
   "id": "9834e5f3a64ffc26",
   "outputs": [],
   "execution_count": 35
  },
  {
   "metadata": {
    "ExecuteTime": {
     "end_time": "2025-04-01T14:34:11.369321Z",
     "start_time": "2025-04-01T14:33:36.071472Z"
    }
   },
   "cell_type": "code",
   "source": [
    "import torch.nn.functional as F\n",
    "loss_func = F.cross_entropy\n",
    "for epoch in range(20):\n",
    "    for batch_idx, (x, y) in enumerate(train_dl):\n",
    "        output = model(x)\n",
    "        # 计算损失rsdf\n",
    "        loss = loss_func(output, y)\n",
    "        # 梯度下降\n",
    "        loss.backward()\n",
    "        optim.step()\n",
    "        optim.zero_grad()\n",
    "        if batch_idx % 100 == 0:\n",
    "            print(f'Epoch {epoch}, Batch {batch_idx}, Loss: {loss.item()}')\n",
    "    total_num,total_cor = 0,0\n",
    "    for x,y in valid_dl:\n",
    "        output = model(x)\n",
    "        _, predicted = torch.max(output.data, 1)  # 获取预测的类别\n",
    "        total_num += y.size(0)  # 累加样本总数\n",
    "        total_cor += (predicted == y).sum().item()  # 累加预测正确的样本数\n",
    "    print(f'Accuracy: {total_cor/total_num*100:.2f}%')\n",
    "        # 计算准确率\n"
   ],
   "id": "1ce3f5e7f81db010",
   "outputs": [
    {
     "name": "stdout",
     "output_type": "stream",
     "text": [
      "Epoch 0, Batch 0, Loss: 2.303443431854248\n",
      "Epoch 0, Batch 100, Loss: 0.6949055790901184\n",
      "Epoch 0, Batch 200, Loss: 0.5451064109802246\n",
      "Epoch 0, Batch 300, Loss: 0.31943637132644653\n",
      "Epoch 0, Batch 400, Loss: 0.24207109212875366\n",
      "Epoch 0, Batch 500, Loss: 0.21811063587665558\n",
      "Epoch 0, Batch 600, Loss: 0.40940171480178833\n",
      "Epoch 0, Batch 700, Loss: 0.44048959016799927\n",
      "Accuracy: 92.52%\n",
      "Epoch 1, Batch 0, Loss: 0.18826018273830414\n",
      "Epoch 1, Batch 100, Loss: 0.2606894075870514\n",
      "Epoch 1, Batch 200, Loss: 0.435675710439682\n",
      "Epoch 1, Batch 300, Loss: 0.21994651854038239\n",
      "Epoch 1, Batch 400, Loss: 0.20616388320922852\n",
      "Epoch 1, Batch 500, Loss: 0.4820975959300995\n",
      "Epoch 1, Batch 600, Loss: 0.08763349801301956\n",
      "Epoch 1, Batch 700, Loss: 0.157307967543602\n",
      "Accuracy: 94.29%\n",
      "Epoch 2, Batch 0, Loss: 0.2292371541261673\n",
      "Epoch 2, Batch 100, Loss: 0.24579384922981262\n",
      "Epoch 2, Batch 200, Loss: 0.30122891068458557\n",
      "Epoch 2, Batch 300, Loss: 0.13454151153564453\n",
      "Epoch 2, Batch 400, Loss: 0.23077796399593353\n",
      "Epoch 2, Batch 500, Loss: 0.1428871601819992\n",
      "Epoch 2, Batch 600, Loss: 0.07950849086046219\n",
      "Epoch 2, Batch 700, Loss: 0.1654263138771057\n",
      "Accuracy: 94.66%\n",
      "Epoch 3, Batch 0, Loss: 0.15872037410736084\n",
      "Epoch 3, Batch 100, Loss: 0.17930971086025238\n",
      "Epoch 3, Batch 200, Loss: 0.09036332368850708\n",
      "Epoch 3, Batch 300, Loss: 0.10654264688491821\n",
      "Epoch 3, Batch 400, Loss: 0.1260899007320404\n",
      "Epoch 3, Batch 500, Loss: 0.2628954350948334\n",
      "Epoch 3, Batch 600, Loss: 0.11309265345335007\n",
      "Epoch 3, Batch 700, Loss: 0.19643811881542206\n",
      "Accuracy: 95.17%\n",
      "Epoch 4, Batch 0, Loss: 0.14209410548210144\n",
      "Epoch 4, Batch 100, Loss: 0.23243078589439392\n",
      "Epoch 4, Batch 200, Loss: 0.08206608891487122\n",
      "Epoch 4, Batch 300, Loss: 0.11420389264822006\n",
      "Epoch 4, Batch 400, Loss: 0.19431236386299133\n",
      "Epoch 4, Batch 500, Loss: 0.19818513095378876\n",
      "Epoch 4, Batch 600, Loss: 0.18740151822566986\n",
      "Epoch 4, Batch 700, Loss: 0.3791579604148865\n",
      "Accuracy: 95.16%\n",
      "Epoch 5, Batch 0, Loss: 0.1753074824810028\n",
      "Epoch 5, Batch 100, Loss: 0.19521021842956543\n",
      "Epoch 5, Batch 200, Loss: 0.1295822560787201\n",
      "Epoch 5, Batch 300, Loss: 0.10347657650709152\n",
      "Epoch 5, Batch 400, Loss: 0.075315922498703\n",
      "Epoch 5, Batch 500, Loss: 0.13953515887260437\n",
      "Epoch 5, Batch 600, Loss: 0.11954645812511444\n",
      "Epoch 5, Batch 700, Loss: 0.08141251653432846\n",
      "Accuracy: 95.37%\n",
      "Epoch 6, Batch 0, Loss: 0.29992514848709106\n",
      "Epoch 6, Batch 100, Loss: 0.21430949866771698\n",
      "Epoch 6, Batch 200, Loss: 0.07970408350229263\n",
      "Epoch 6, Batch 300, Loss: 0.23955267667770386\n",
      "Epoch 6, Batch 400, Loss: 0.07260576635599136\n",
      "Epoch 6, Batch 500, Loss: 0.06733590364456177\n",
      "Epoch 6, Batch 600, Loss: 0.0504290908575058\n",
      "Epoch 6, Batch 700, Loss: 0.04345903918147087\n",
      "Accuracy: 96.04%\n",
      "Epoch 7, Batch 0, Loss: 0.134355366230011\n",
      "Epoch 7, Batch 100, Loss: 0.06163730099797249\n",
      "Epoch 7, Batch 200, Loss: 0.14175420999526978\n",
      "Epoch 7, Batch 300, Loss: 0.18595458567142487\n",
      "Epoch 7, Batch 400, Loss: 0.10616254061460495\n",
      "Epoch 7, Batch 500, Loss: 0.07785813510417938\n",
      "Epoch 7, Batch 600, Loss: 0.10875556617975235\n",
      "Epoch 7, Batch 700, Loss: 0.09118885546922684\n",
      "Accuracy: 96.01%\n",
      "Epoch 8, Batch 0, Loss: 0.048962801694869995\n",
      "Epoch 8, Batch 100, Loss: 0.07560745626688004\n",
      "Epoch 8, Batch 200, Loss: 0.12372329086065292\n",
      "Epoch 8, Batch 300, Loss: 0.35166794061660767\n",
      "Epoch 8, Batch 400, Loss: 0.14175091683864594\n",
      "Epoch 8, Batch 500, Loss: 0.049349524080753326\n",
      "Epoch 8, Batch 600, Loss: 0.09323349595069885\n",
      "Epoch 8, Batch 700, Loss: 0.08935926854610443\n",
      "Accuracy: 95.81%\n",
      "Epoch 9, Batch 0, Loss: 0.21178454160690308\n",
      "Epoch 9, Batch 100, Loss: 0.045785993337631226\n",
      "Epoch 9, Batch 200, Loss: 0.030818425118923187\n",
      "Epoch 9, Batch 300, Loss: 0.10238493978977203\n",
      "Epoch 9, Batch 400, Loss: 0.11219831556081772\n",
      "Epoch 9, Batch 500, Loss: 0.05207652226090431\n",
      "Epoch 9, Batch 600, Loss: 0.047556787729263306\n",
      "Epoch 9, Batch 700, Loss: 0.058663155883550644\n",
      "Accuracy: 96.05%\n",
      "Epoch 10, Batch 0, Loss: 0.05723051726818085\n",
      "Epoch 10, Batch 100, Loss: 0.10303116589784622\n",
      "Epoch 10, Batch 200, Loss: 0.06905316561460495\n",
      "Epoch 10, Batch 300, Loss: 0.08215190470218658\n",
      "Epoch 10, Batch 400, Loss: 0.15669721364974976\n",
      "Epoch 10, Batch 500, Loss: 0.027394810691475868\n",
      "Epoch 10, Batch 600, Loss: 0.1410365253686905\n",
      "Epoch 10, Batch 700, Loss: 0.15128158032894135\n",
      "Accuracy: 95.60%\n",
      "Epoch 11, Batch 0, Loss: 0.07612653076648712\n",
      "Epoch 11, Batch 100, Loss: 0.08446740359067917\n",
      "Epoch 11, Batch 200, Loss: 0.12548130750656128\n",
      "Epoch 11, Batch 300, Loss: 0.08399133384227753\n",
      "Epoch 11, Batch 400, Loss: 0.14660212397575378\n",
      "Epoch 11, Batch 500, Loss: 0.03901788219809532\n",
      "Epoch 11, Batch 600, Loss: 0.03844304010272026\n",
      "Epoch 11, Batch 700, Loss: 0.08514390885829926\n",
      "Accuracy: 96.03%\n",
      "Epoch 12, Batch 0, Loss: 0.13743790984153748\n",
      "Epoch 12, Batch 100, Loss: 0.08838777989149094\n",
      "Epoch 12, Batch 200, Loss: 0.05795232579112053\n",
      "Epoch 12, Batch 300, Loss: 0.19106678664684296\n",
      "Epoch 12, Batch 400, Loss: 0.13452494144439697\n",
      "Epoch 12, Batch 500, Loss: 0.2303527593612671\n",
      "Epoch 12, Batch 600, Loss: 0.19103431701660156\n",
      "Epoch 12, Batch 700, Loss: 0.1003076359629631\n",
      "Accuracy: 96.26%\n",
      "Epoch 13, Batch 0, Loss: 0.0940786749124527\n",
      "Epoch 13, Batch 100, Loss: 0.14337120950222015\n",
      "Epoch 13, Batch 200, Loss: 0.16833992302417755\n",
      "Epoch 13, Batch 300, Loss: 0.13422821462154388\n",
      "Epoch 13, Batch 400, Loss: 0.09632773697376251\n",
      "Epoch 13, Batch 500, Loss: 0.11592468619346619\n",
      "Epoch 13, Batch 600, Loss: 0.07915930449962616\n",
      "Epoch 13, Batch 700, Loss: 0.0791458934545517\n",
      "Accuracy: 96.58%\n",
      "Epoch 14, Batch 0, Loss: 0.14077506959438324\n",
      "Epoch 14, Batch 100, Loss: 0.11826866865158081\n",
      "Epoch 14, Batch 200, Loss: 0.0777682289481163\n",
      "Epoch 14, Batch 300, Loss: 0.027582891285419464\n",
      "Epoch 14, Batch 400, Loss: 0.08897566050291061\n",
      "Epoch 14, Batch 500, Loss: 0.06189221516251564\n",
      "Epoch 14, Batch 600, Loss: 0.14410096406936646\n",
      "Epoch 14, Batch 700, Loss: 0.026039451360702515\n",
      "Accuracy: 96.17%\n",
      "Epoch 15, Batch 0, Loss: 0.10607796907424927\n",
      "Epoch 15, Batch 100, Loss: 0.26588085293769836\n",
      "Epoch 15, Batch 200, Loss: 0.099481962621212\n",
      "Epoch 15, Batch 300, Loss: 0.05538564175367355\n",
      "Epoch 15, Batch 400, Loss: 0.32818180322647095\n",
      "Epoch 15, Batch 500, Loss: 0.10930582135915756\n",
      "Epoch 15, Batch 600, Loss: 0.14959393441677094\n",
      "Epoch 15, Batch 700, Loss: 0.0058369748294353485\n",
      "Accuracy: 95.98%\n",
      "Epoch 16, Batch 0, Loss: 0.028128884732723236\n",
      "Epoch 16, Batch 100, Loss: 0.03527660667896271\n",
      "Epoch 16, Batch 200, Loss: 0.015438581816852093\n",
      "Epoch 16, Batch 300, Loss: 0.14838549494743347\n",
      "Epoch 16, Batch 400, Loss: 0.02077193185687065\n",
      "Epoch 16, Batch 500, Loss: 0.15971410274505615\n",
      "Epoch 16, Batch 600, Loss: 0.09829874336719513\n",
      "Epoch 16, Batch 700, Loss: 0.09868644177913666\n",
      "Accuracy: 96.10%\n",
      "Epoch 17, Batch 0, Loss: 0.1257999837398529\n",
      "Epoch 17, Batch 100, Loss: 0.009577237069606781\n",
      "Epoch 17, Batch 200, Loss: 0.05588970333337784\n",
      "Epoch 17, Batch 300, Loss: 0.1001649722456932\n",
      "Epoch 17, Batch 400, Loss: 0.05157022178173065\n",
      "Epoch 17, Batch 500, Loss: 0.11382733285427094\n",
      "Epoch 17, Batch 600, Loss: 0.12056998908519745\n",
      "Epoch 17, Batch 700, Loss: 0.024013491347432137\n",
      "Accuracy: 96.42%\n",
      "Epoch 18, Batch 0, Loss: 0.08197180926799774\n",
      "Epoch 18, Batch 100, Loss: 0.06315024197101593\n",
      "Epoch 18, Batch 200, Loss: 0.13383722305297852\n",
      "Epoch 18, Batch 300, Loss: 0.0689820647239685\n",
      "Epoch 18, Batch 400, Loss: 0.04334070533514023\n",
      "Epoch 18, Batch 500, Loss: 0.061931218951940536\n",
      "Epoch 18, Batch 600, Loss: 0.07100973278284073\n",
      "Epoch 18, Batch 700, Loss: 0.10663703083992004\n",
      "Accuracy: 96.10%\n",
      "Epoch 19, Batch 0, Loss: 0.05228238180279732\n",
      "Epoch 19, Batch 100, Loss: 0.04472848027944565\n",
      "Epoch 19, Batch 200, Loss: 0.02161557599902153\n",
      "Epoch 19, Batch 300, Loss: 0.1307716965675354\n",
      "Epoch 19, Batch 400, Loss: 0.1772555261850357\n",
      "Epoch 19, Batch 500, Loss: 0.13970732688903809\n",
      "Epoch 19, Batch 600, Loss: 0.04845389351248741\n",
      "Epoch 19, Batch 700, Loss: 0.14348267018795013\n",
      "Accuracy: 96.55%\n"
     ]
    }
   ],
   "execution_count": 36
  }
 ],
 "metadata": {
  "kernelspec": {
   "display_name": "Python 3",
   "language": "python",
   "name": "python3"
  },
  "language_info": {
   "codemirror_mode": {
    "name": "ipython",
    "version": 2
   },
   "file_extension": ".py",
   "mimetype": "text/x-python",
   "name": "python",
   "nbconvert_exporter": "python",
   "pygments_lexer": "ipython2",
   "version": "2.7.6"
  }
 },
 "nbformat": 4,
 "nbformat_minor": 5
}
