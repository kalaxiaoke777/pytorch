{
 "cells": [
  {
   "cell_type": "code",
   "id": "initial_id",
   "metadata": {
    "collapsed": true,
    "ExecuteTime": {
     "end_time": "2025-03-31T03:16:54.037873Z",
     "start_time": "2025-03-31T03:16:54.028333Z"
    }
   },
   "source": [
    "import torch\n",
    "\n",
    "# 创建一个一维张量\n",
    "tensor1 = torch.tensor([1, 2, 3, 4])\n",
    "print(tensor1)\n",
    "\n",
    "# 创建一个二维张量\n",
    "tensor2 = torch.tensor([[1, 2], [3, 4]])\n",
    "print(tensor2)"
   ],
   "outputs": [
    {
     "name": "stdout",
     "output_type": "stream",
     "text": [
      "tensor([1, 2, 3, 4])\n",
      "tensor([[1, 2],\n",
      "        [3, 4]])\n"
     ]
    }
   ],
   "execution_count": 2
  },
  {
   "metadata": {
    "ExecuteTime": {
     "end_time": "2025-03-31T03:25:29.520753Z",
     "start_time": "2025-03-31T03:25:29.513273Z"
    }
   },
   "cell_type": "code",
   "source": [
    "# 创建一个形状为 (2, 3) 的全零张量\n",
    "zeros_tensor = torch.zeros(2, 3)\n",
    "zeros_tensor = zeros_tensor.to(dtype=torch.int32)\n",
    "print(zeros_tensor)"
   ],
   "id": "8a4df89bb2aa262a",
   "outputs": [
    {
     "name": "stdout",
     "output_type": "stream",
     "text": [
      "tensor([[0, 0, 0],\n",
      "        [0, 0, 0]], dtype=torch.int32)\n"
     ]
    }
   ],
   "execution_count": 10
  },
  {
   "metadata": {
    "ExecuteTime": {
     "end_time": "2025-03-31T03:25:43.210266Z",
     "start_time": "2025-03-31T03:25:43.203300Z"
    }
   },
   "cell_type": "code",
   "source": [
    "# 创建一个形状为 (2, 3) 的全一张量\n",
    "ones_tensor = torch.ones(2, 3)\n",
    "print(ones_tensor)"
   ],
   "id": "3c6ebc027f950a46",
   "outputs": [
    {
     "name": "stdout",
     "output_type": "stream",
     "text": [
      "tensor([[1., 1., 1.],\n",
      "        [1., 1., 1.]])\n"
     ]
    }
   ],
   "execution_count": 12
  },
  {
   "metadata": {
    "ExecuteTime": {
     "end_time": "2025-03-31T03:25:51.479567Z",
     "start_time": "2025-03-31T03:25:51.471573Z"
    }
   },
   "cell_type": "code",
   "source": [
    "# 创建一个形状为 (2, 3) 的未初始化张量\n",
    "empty_tensor = torch.empty(2, 3)\n",
    "print(empty_tensor)"
   ],
   "id": "eab3732088cc01cd",
   "outputs": [
    {
     "name": "stdout",
     "output_type": "stream",
     "text": [
      "tensor([[7.8963e-31, 1.4952e-42, 0.0000e+00],\n",
      "        [0.0000e+00, 0.0000e+00, 0.0000e+00]])\n"
     ]
    }
   ],
   "execution_count": 14
  },
  {
   "metadata": {
    "ExecuteTime": {
     "end_time": "2025-03-31T03:26:10.227645Z",
     "start_time": "2025-03-31T03:26:10.220980Z"
    }
   },
   "cell_type": "code",
   "source": [
    "# 创建一个从 0 到 10 的均匀分布的张量，包含 5 个元素\n",
    "linspace_tensor = torch.linspace(0, 10, steps=5)\n",
    "print(linspace_tensor)"
   ],
   "id": "f0d2e8ed0f4f5698",
   "outputs": [
    {
     "name": "stdout",
     "output_type": "stream",
     "text": [
      "tensor([ 0.0000,  2.5000,  5.0000,  7.5000, 10.0000])\n"
     ]
    }
   ],
   "execution_count": 17
  },
  {
   "metadata": {
    "ExecuteTime": {
     "end_time": "2025-03-31T03:26:31.874056Z",
     "start_time": "2025-03-31T03:26:31.867052Z"
    }
   },
   "cell_type": "code",
   "source": [
    "# 创建一个形状为 (2, 3) 的随机张量\n",
    "rand_tensor = torch.rand(3, 3)\n",
    "print(rand_tensor)"
   ],
   "id": "953aa66917f5f00e",
   "outputs": [
    {
     "name": "stdout",
     "output_type": "stream",
     "text": [
      "tensor([[0.6951, 0.5778, 0.2056],\n",
      "        [0.5707, 0.6547, 0.3161],\n",
      "        [0.2001, 0.8744, 0.4938]])\n"
     ]
    }
   ],
   "execution_count": 20
  },
  {
   "metadata": {
    "ExecuteTime": {
     "end_time": "2025-03-31T03:26:34.406380Z",
     "start_time": "2025-03-31T03:26:34.400549Z"
    }
   },
   "cell_type": "code",
   "source": [
    "# 创建一个形状为 (2, 3) 的正态分布随机张量\n",
    "randn_tensor = torch.randn(2, 3)\n",
    "print(randn_tensor)"
   ],
   "id": "37ddfe2c4143a3cb",
   "outputs": [
    {
     "name": "stdout",
     "output_type": "stream",
     "text": [
      "tensor([[ 1.1497,  1.0452,  0.3856],\n",
      "        [ 1.7059, -0.9896,  1.2560]])\n"
     ]
    }
   ],
   "execution_count": 22
  },
  {
   "metadata": {
    "ExecuteTime": {
     "end_time": "2025-03-31T03:26:56.305696Z",
     "start_time": "2025-03-31T03:26:56.299789Z"
    }
   },
   "cell_type": "code",
   "source": [
    "# 创建一个形状为 (2, 3) 的正态分布随机张量\n",
    "randn_tensor = torch.rand(2, 3)\n",
    "print(randn_tensor)"
   ],
   "id": "4d430ba7f3356ae5",
   "outputs": [
    {
     "name": "stdout",
     "output_type": "stream",
     "text": [
      "tensor([[0.9807, 0.2285, 0.8956],\n",
      "        [0.6073, 0.0650, 0.3971]])\n"
     ]
    }
   ],
   "execution_count": 25
  },
  {
   "metadata": {
    "ExecuteTime": {
     "end_time": "2025-03-31T03:33:22.162396Z",
     "start_time": "2025-03-31T03:33:22.154759Z"
    }
   },
   "cell_type": "code",
   "source": [
    "# 创建一个形状为 (2, 3) 的张量，填充值为 5\n",
    "full_tensor = torch.full((2, 3), 1)\n",
    "print(full_tensor)"
   ],
   "id": "4b60fe142ceb35d5",
   "outputs": [
    {
     "name": "stdout",
     "output_type": "stream",
     "text": [
      "tensor([[1, 1, 1],\n",
      "        [1, 1, 1]])\n"
     ]
    }
   ],
   "execution_count": 28
  },
  {
   "metadata": {
    "ExecuteTime": {
     "end_time": "2025-03-31T03:44:00.836326Z",
     "start_time": "2025-03-31T03:44:00.824795Z"
    }
   },
   "cell_type": "code",
   "source": [
    "diag_elements = torch.tensor([1, 2, 3])\n",
    "\n",
    "# 使用 torch.diag() 创建对角矩阵\n",
    "diag_matrix = torch.diag(diag_elements)\n",
    "print(diag_matrix)\n",
    "torch.transpose(diag_matrix, 1,0)"
   ],
   "id": "34ea45f85c4281c7",
   "outputs": [
    {
     "name": "stdout",
     "output_type": "stream",
     "text": [
      "tensor([[1, 0, 0],\n",
      "        [0, 2, 0],\n",
      "        [0, 0, 3]])\n"
     ]
    },
    {
     "data": {
      "text/plain": [
       "tensor([[1, 0, 0],\n",
       "        [0, 2, 0],\n",
       "        [0, 0, 3]])"
      ]
     },
     "execution_count": 82,
     "metadata": {},
     "output_type": "execute_result"
    }
   ],
   "execution_count": 82
  },
  {
   "metadata": {
    "ExecuteTime": {
     "end_time": "2025-03-31T03:44:55.057575Z",
     "start_time": "2025-03-31T03:44:55.050490Z"
    }
   },
   "cell_type": "code",
   "source": [
    "x = torch.tensor([[3, 2], [3, 4]])\n",
    "y = torch.transpose(x, 0, 1)\n",
    "x,y"
   ],
   "id": "58fb9227be05ec2a",
   "outputs": [
    {
     "data": {
      "text/plain": [
       "(tensor([[3, 2],\n",
       "         [3, 4]]),\n",
       " tensor([[3, 3],\n",
       "         [2, 4]]))"
      ]
     },
     "execution_count": 86,
     "metadata": {},
     "output_type": "execute_result"
    }
   ],
   "execution_count": 86
  },
  {
   "metadata": {
    "ExecuteTime": {
     "end_time": "2025-03-31T03:46:57.480047Z",
     "start_time": "2025-03-31T03:46:57.474049Z"
    }
   },
   "cell_type": "code",
   "source": [
    "x = torch.randn(32, 3, 4)\n",
    "y = x.permute(1, 2, 0)\n",
    "print(y.shape)  # 输出：torch.Size([4, 2, 3])"
   ],
   "id": "80af766e28b4cee6",
   "outputs": [
    {
     "name": "stdout",
     "output_type": "stream",
     "text": [
      "torch.Size([3, 4, 32])\n"
     ]
    }
   ],
   "execution_count": 119
  },
  {
   "metadata": {
    "ExecuteTime": {
     "end_time": "2025-03-31T03:48:23.329143Z",
     "start_time": "2025-03-31T03:48:23.322261Z"
    }
   },
   "cell_type": "code",
   "source": [
    "x = torch.randn(32, 10, 1)\n",
    "y = torch.squeeze(x)\n",
    "x.shape,y.shape"
   ],
   "id": "5c8ca4e5bfbc6104",
   "outputs": [
    {
     "data": {
      "text/plain": [
       "(torch.Size([32, 10, 1]), torch.Size([32, 10]))"
      ]
     },
     "execution_count": 126,
     "metadata": {},
     "output_type": "execute_result"
    }
   ],
   "execution_count": 126
  },
  {
   "metadata": {
    "ExecuteTime": {
     "end_time": "2025-03-31T03:50:29.147420Z",
     "start_time": "2025-03-31T03:50:29.139603Z"
    }
   },
   "cell_type": "code",
   "source": [
    "x = torch.tensor([1, 2, 3])\n",
    "y = torch.unsqueeze(x, 0)\n",
    "x.shape,y.shape"
   ],
   "id": "e77b1493f0a15974",
   "outputs": [
    {
     "data": {
      "text/plain": [
       "(torch.Size([3]), torch.Size([1, 3]))"
      ]
     },
     "execution_count": 134,
     "metadata": {},
     "output_type": "execute_result"
    }
   ],
   "execution_count": 134
  },
  {
   "metadata": {
    "ExecuteTime": {
     "end_time": "2025-03-31T03:51:07.692726Z",
     "start_time": "2025-03-31T03:51:07.683670Z"
    }
   },
   "cell_type": "code",
   "source": [
    "x = torch.randn(32, 10, 1)\n",
    "y = torch.flatten(x)\n",
    "x.shape,y.shape"
   ],
   "id": "3c306c922fdbbbd4",
   "outputs": [
    {
     "data": {
      "text/plain": [
       "(torch.Size([32, 10, 1]), torch.Size([320]))"
      ]
     },
     "execution_count": 138,
     "metadata": {},
     "output_type": "execute_result"
    }
   ],
   "execution_count": 138
  },
  {
   "metadata": {
    "ExecuteTime": {
     "end_time": "2025-03-31T07:17:46.945511Z",
     "start_time": "2025-03-31T07:17:46.888283Z"
    }
   },
   "cell_type": "code",
   "source": [
    "x = torch.randn(3, 3, 1)\n",
    "y = torch.chunk(x, 3)\n",
    "y# 输出：(tensor([1, 2]), tensor([3, 4]), tensor([5, 6]))"
   ],
   "id": "eea50e70a4396e93",
   "outputs": [
    {
     "data": {
      "text/plain": [
       "(tensor([[[ 0.1402],\n",
       "          [ 1.8509],\n",
       "          [-1.2267]]]),\n",
       " tensor([[[-0.6810],\n",
       "          [-0.0759],\n",
       "          [-0.8846]]]),\n",
       " tensor([[[0.8851],\n",
       "          [0.0465],\n",
       "          [0.1826]]]))"
      ]
     },
     "execution_count": 164,
     "metadata": {},
     "output_type": "execute_result"
    }
   ],
   "execution_count": 164
  },
  {
   "metadata": {
    "ExecuteTime": {
     "end_time": "2025-03-31T03:54:13.633830Z",
     "start_time": "2025-03-31T03:54:13.626812Z"
    }
   },
   "cell_type": "code",
   "source": [
    "x = torch.tensor([[1, 2], [3, 4]])\n",
    "y = torch.tensor([[5, 6], [7, 8]])\n",
    "z = torch.cat((x, y), dim=0)\n",
    "print(z)  # 输出：tensor([[1, 2], [3, 4], [5, 6], [7, 8]])"
   ],
   "id": "892dfcc68fcf6ad3",
   "outputs": [
    {
     "name": "stdout",
     "output_type": "stream",
     "text": [
      "tensor([[1, 2],\n",
      "        [3, 4],\n",
      "        [5, 6],\n",
      "        [7, 8]])\n"
     ]
    }
   ],
   "execution_count": 161
  },
  {
   "metadata": {
    "ExecuteTime": {
     "end_time": "2025-03-31T07:19:06.155694Z",
     "start_time": "2025-03-31T07:19:06.149126Z"
    }
   },
   "cell_type": "code",
   "source": [
    "x = torch.tensor([[1, 2], [3, 4]])\n",
    "y = torch.tensor([[5, 6], [7, 8]])\n",
    "z = torch.cat((x, y), dim=0)\n",
    "print(z)"
   ],
   "id": "5d54cd734092fc08",
   "outputs": [
    {
     "name": "stdout",
     "output_type": "stream",
     "text": [
      "tensor([[1, 2],\n",
      "        [3, 4],\n",
      "        [5, 6],\n",
      "        [7, 8]])\n"
     ]
    }
   ],
   "execution_count": 174
  },
  {
   "metadata": {
    "ExecuteTime": {
     "end_time": "2025-03-31T07:38:08.706977Z",
     "start_time": "2025-03-31T07:38:08.699334Z"
    }
   },
   "cell_type": "code",
   "source": [
    "x = torch.tensor([[1, 2], [3, 4]])\n",
    "y = torch.tensor([[5, 6], [7, 8]])\n",
    "z = torch.concat((x, y), dim=1)\n",
    "print(z)\n",
    "# 输出：\n",
    "# tensor([[1, 2],\n",
    "#         [3, 4],\n",
    "#         [5, 6],\n",
    "#         [7, 8]])"
   ],
   "id": "3f687f8ff7a4b2be",
   "outputs": [
    {
     "name": "stdout",
     "output_type": "stream",
     "text": [
      "tensor([[1, 2, 5, 6],\n",
      "        [3, 4, 7, 8]])\n"
     ]
    }
   ],
   "execution_count": 206
  },
  {
   "metadata": {
    "ExecuteTime": {
     "end_time": "2025-03-31T07:43:25.802143Z",
     "start_time": "2025-03-31T07:43:25.794963Z"
    }
   },
   "cell_type": "code",
   "source": [
    "x = torch.tensor([1, 2, 3, 4, 5, 6])\n",
    "y = torch.split(x, 2)\n",
    "print(y)\n",
    "# 输出：\n",
    "# (tensor([1, 2]), tensor([3, 4]), tensor([5, 6]))"
   ],
   "id": "ac55c82717f65946",
   "outputs": [
    {
     "name": "stdout",
     "output_type": "stream",
     "text": [
      "(tensor([1, 2]), tensor([3, 4]), tensor([5, 6]))\n"
     ]
    }
   ],
   "execution_count": 208
  },
  {
   "metadata": {
    "ExecuteTime": {
     "end_time": "2025-03-31T07:47:41.179363Z",
     "start_time": "2025-03-31T07:47:41.171365Z"
    }
   },
   "cell_type": "code",
   "source": [
    "x = torch.tensor([1, 2, 3, 4, 5, 6])\n",
    "y = torch.hsplit(x, 3)\n",
    "print(y)\n",
    "# 输出：\n",
    "# (tensor([1, 2]), tensor([3, 4]), tensor([5, 6]))\n"
   ],
   "id": "8b9826294af183b5",
   "outputs": [
    {
     "name": "stdout",
     "output_type": "stream",
     "text": [
      "(tensor([1, 2]), tensor([3, 4]), tensor([5, 6]))\n"
     ]
    }
   ],
   "execution_count": 233
  },
  {
   "metadata": {
    "ExecuteTime": {
     "end_time": "2025-03-31T09:19:50.073249Z",
     "start_time": "2025-03-31T09:19:50.031989Z"
    }
   },
   "cell_type": "code",
   "source": [
    "x = torch.tensor([[[1, 2], [3, 4]], [[5, 6], [7, 8]]])\n",
    "y = torch.dsplit(x, 2)\n",
    "x,y\n",
    "\n",
    "# 输出：\n",
    "# (tensor([[[1], [3]], [[5], [7]]]), tensor([[[2], [4]], [[6], [8]]]))"
   ],
   "id": "61b42782ecc60046",
   "outputs": [
    {
     "data": {
      "text/plain": [
       "(tensor([[[1, 2],\n",
       "          [3, 4]],\n",
       " \n",
       "         [[5, 6],\n",
       "          [7, 8]]]),\n",
       " (tensor([[[1],\n",
       "           [3]],\n",
       "  \n",
       "          [[5],\n",
       "           [7]]]),\n",
       "  tensor([[[2],\n",
       "           [4]],\n",
       "  \n",
       "          [[6],\n",
       "           [8]]])))"
      ]
     },
     "execution_count": 241,
     "metadata": {},
     "output_type": "execute_result"
    }
   ],
   "execution_count": 241
  },
  {
   "metadata": {
    "ExecuteTime": {
     "end_time": "2025-03-31T09:31:08.078095Z",
     "start_time": "2025-03-31T09:31:08.069878Z"
    }
   },
   "cell_type": "code",
   "source": [
    "x = torch.tensor([3, 3, 3],dtype=torch.float32)\n",
    "x.mean()"
   ],
   "id": "c94bcc327622bab3",
   "outputs": [
    {
     "data": {
      "text/plain": [
       "tensor(3.)"
      ]
     },
     "execution_count": 261,
     "metadata": {},
     "output_type": "execute_result"
    }
   ],
   "execution_count": 261
  },
  {
   "metadata": {
    "ExecuteTime": {
     "end_time": "2025-03-31T09:33:26.885707Z",
     "start_time": "2025-03-31T09:33:26.875212Z"
    }
   },
   "cell_type": "code",
   "source": [
    "x = torch.tensor([[1, 2, 3], [4, 5, 6]],dtype=torch.float32)\n",
    "var_all = torch.var(x)  # 计算所有元素的方差\n",
    "var_dim0 = torch.var(x, dim=0)  # 沿第0维计算方差\n",
    "var_dim1 = torch.var(x, dim=1)  # 沿第1维计算方差\n",
    "print(var_all)  # 输出：tensor(2.9167)\n",
    "print(var_dim0)  # 输出：tensor([2.2500, 2.2500, 2.2500])\n",
    "print(var_dim1)  # 输出：tensor([0.6667, 0.6667])"
   ],
   "id": "d99a1c753d6e6c2e",
   "outputs": [
    {
     "name": "stdout",
     "output_type": "stream",
     "text": [
      "tensor(3.5000)\n",
      "tensor([4.5000, 4.5000, 4.5000])\n",
      "tensor([1., 1.])\n"
     ]
    }
   ],
   "execution_count": 267
  },
  {
   "metadata": {
    "ExecuteTime": {
     "end_time": "2025-03-31T09:33:32.972052Z",
     "start_time": "2025-03-31T09:33:32.963630Z"
    }
   },
   "cell_type": "code",
   "source": [
    "x = torch.tensor([[1, 2, 3], [4, 5, 6]],dtype=torch.float32)\n",
    "std_dim0 = torch.std(x, dim=0)  # 沿第0维计算标准差\n",
    "std_dim1 = torch.std(x, dim=1)  # 沿第1维计算标准差\n",
    "print(std_all)  # 输出：tensor(1.7078)\n",
    "print(std_dim0)  # 输出：tensor([1.5000, 1.5000, 1.5000]\n",
    "print(std_dim1)  # 输出：tensor([0.8165, 0.8165])"
   ],
   "id": "b5edf03f08688d14",
   "outputs": [
    {
     "name": "stdout",
     "output_type": "stream",
     "text": [
      "tensor(1.8708)\n",
      "tensor([2.1213, 2.1213, 2.1213])\n",
      "tensor([1., 1.])\n"
     ]
    }
   ],
   "execution_count": 269
  }
 ],
 "metadata": {
  "kernelspec": {
   "display_name": "Python 3",
   "language": "python",
   "name": "python3"
  },
  "language_info": {
   "codemirror_mode": {
    "name": "ipython",
    "version": 2
   },
   "file_extension": ".py",
   "mimetype": "text/x-python",
   "name": "python",
   "nbconvert_exporter": "python",
   "pygments_lexer": "ipython2",
   "version": "2.7.6"
  }
 },
 "nbformat": 4,
 "nbformat_minor": 5
}
