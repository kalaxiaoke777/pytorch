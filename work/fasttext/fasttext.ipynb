{
 "cells": [
  {
   "cell_type": "code",
   "id": "initial_id",
   "metadata": {
    "collapsed": true,
    "ExecuteTime": {
     "end_time": "2025-04-22T14:10:36.844703Z",
     "start_time": "2025-04-22T14:10:28.489243Z"
    }
   },
   "source": [
    "import os\n",
    "import sys\n",
    "import jieba\n",
    "\n",
    "\n",
    "id_to_label = {}\n",
    "\n",
    "idx = 0\n",
    "with open('../data/class.txt', 'r', encoding='utf-8') as f1:\n",
    "    for line in f1.readlines():\n",
    "        line = line.strip('\\n').strip()\n",
    "        id_to_label[idx] = line\n",
    "        idx += 1\n",
    "\n",
    "print('id_to_label:', id_to_label)\n",
    "\n",
    "count = 0\n",
    "train_data = []\n",
    "with open('../data/train.txt', 'r', encoding='utf-8') as f2:\n",
    "    for line in f2.readlines():\n",
    "        line = line.strip('\\n').strip()\n",
    "        sentence, label = line.split('\\t')\n",
    "\n",
    "        # 1: 首先处理标签部分\n",
    "        label_id = int(label)\n",
    "        label_name = id_to_label[label_id]\n",
    "        new_label = '__label__' + label_name\n",
    "\n",
    "        # 2: 然后处理文本部分, 为了便于后续增加n-gram特性, 可以按字划分, 也可以按词划分\n",
    "        sent_char = ' '.join(jieba.cut(sentence))\n",
    "\n",
    "        # 3: 将文本和标签组合成fasttext规定的格式\n",
    "        new_sentence = new_label + ' ' + sent_char\n",
    "        train_data.append(new_sentence)\n",
    "\n",
    "        count += 1\n",
    "        if count % 10000 == 0:\n",
    "            print('count=', count)\n",
    "\n",
    "\n",
    "with open('train_fast.txt', 'w', encoding='utf-8') as f3:\n",
    "    for data in train_data:\n",
    "        f3.write(data + '\\n')\n",
    "\n",
    "print('FastText训练数据预处理完毕!')"
   ],
   "outputs": [
    {
     "name": "stdout",
     "output_type": "stream",
     "text": [
      "id_to_label: {0: 'finance', 1: 'realty', 2: 'stocks', 3: 'education', 4: 'science', 5: 'society', 6: 'politics', 7: 'sports', 8: 'game', 9: 'entertainment'}\n",
      "count= 10000\n",
      "count= 20000\n",
      "count= 30000\n",
      "count= 40000\n",
      "count= 50000\n",
      "count= 60000\n",
      "count= 70000\n",
      "count= 80000\n",
      "count= 90000\n",
      "count= 100000\n",
      "count= 110000\n",
      "count= 120000\n",
      "count= 130000\n",
      "count= 140000\n",
      "count= 150000\n",
      "count= 160000\n",
      "count= 170000\n",
      "count= 180000\n",
      "FastText训练数据预处理完毕!\n"
     ]
    }
   ],
   "execution_count": 6
  },
  {
   "metadata": {
    "ExecuteTime": {
     "end_time": "2025-04-22T14:11:09.867233Z",
     "start_time": "2025-04-22T14:11:09.421214Z"
    }
   },
   "cell_type": "code",
   "source": [
    "id_to_label = {}\n",
    "\n",
    "idx = 0\n",
    "with open('../data/class.txt', 'r', encoding='utf-8') as f1:\n",
    "    for line in f1.readlines():\n",
    "        line = line.strip('\\n').strip()\n",
    "        id_to_label[idx] = line\n",
    "        idx += 1\n",
    "\n",
    "print('id_to_label:', id_to_label)\n",
    "\n",
    "count = 0\n",
    "train_data = []\n",
    "with open('../data/test.txt', 'r', encoding='utf-8') as f2:\n",
    "    for line in f2.readlines():\n",
    "        line = line.strip('\\n').strip()\n",
    "        sentence, label = line.split('\\t')\n",
    "\n",
    "        # 1: 首先处理标签部分\n",
    "        label_id = int(label)\n",
    "        label_name = id_to_label[label_id]\n",
    "        new_label = '__label__' + label_name\n",
    "\n",
    "        # 2: 然后处理文本部分, 为了便于后续增加n-gram特性, 可以按字划分, 也可以按词划分\n",
    "        sent_char = ' '.join(jieba.cut(sentence))\n",
    "\n",
    "        # 3: 将文本和标签组合成fasttext规定的格式\n",
    "        new_sentence = new_label + ' ' + sent_char\n",
    "        train_data.append(new_sentence)\n",
    "\n",
    "        count += 1\n",
    "        if count % 10000 == 0:\n",
    "            print('count=', count)\n",
    "\n",
    "\n",
    "with open('test_fast.txt', 'w', encoding='utf-8') as f3:\n",
    "    for data in train_data:\n",
    "        f3.write(data + '\\n')\n",
    "\n",
    "print('FastText训练数据预处理完毕!')"
   ],
   "id": "c581c96f4ef991c4",
   "outputs": [
    {
     "name": "stdout",
     "output_type": "stream",
     "text": [
      "id_to_label: {0: 'finance', 1: 'realty', 2: 'stocks', 3: 'education', 4: 'science', 5: 'society', 6: 'politics', 7: 'sports', 8: 'game', 9: 'entertainment'}\n",
      "count= 10000\n",
      "FastText训练数据预处理完毕!\n"
     ]
    }
   ],
   "execution_count": 8
  },
  {
   "metadata": {
    "ExecuteTime": {
     "end_time": "2025-04-22T14:12:27.021836Z",
     "start_time": "2025-04-22T14:12:26.570831Z"
    }
   },
   "cell_type": "code",
   "source": [
    "id_to_label = {}\n",
    "\n",
    "idx = 0\n",
    "with open('../data/class.txt', 'r', encoding='utf-8') as f1:\n",
    "    for line in f1.readlines():\n",
    "        line = line.strip('\\n').strip()\n",
    "        id_to_label[idx] = line\n",
    "        idx += 1\n",
    "\n",
    "print('id_to_label:', id_to_label)\n",
    "\n",
    "count = 0\n",
    "train_data = []\n",
    "with open('../data/dev.txt', 'r', encoding='utf-8') as f2:\n",
    "    for line in f2.readlines():\n",
    "        line = line.strip('\\n').strip()\n",
    "        sentence, label = line.split('\\t')\n",
    "\n",
    "        # 1: 首先处理标签部分\n",
    "        label_id = int(label)\n",
    "        label_name = id_to_label[label_id]\n",
    "        new_label = '__label__' + label_name\n",
    "\n",
    "        # 2: 然后处理文本部分, 为了便于后续增加n-gram特性, 可以按字划分, 也可以按词划分\n",
    "        sent_char = ' '.join(jieba.cut(sentence))\n",
    "\n",
    "        # 3: 将文本和标签组合成fasttext规定的格式\n",
    "        new_sentence = new_label + ' ' + sent_char\n",
    "        train_data.append(new_sentence)\n",
    "\n",
    "        count += 1\n",
    "        if count % 10000 == 0:\n",
    "            print('count=', count)\n",
    "\n",
    "\n",
    "with open('dev_fast.txt', 'w', encoding='utf-8') as f3:\n",
    "    for data in train_data:\n",
    "        f3.write(data + '\\n')\n",
    "\n",
    "print('FastText训练数据预处理完毕!')"
   ],
   "id": "7abcf3e25c79bcce",
   "outputs": [
    {
     "name": "stdout",
     "output_type": "stream",
     "text": [
      "id_to_label: {0: 'finance', 1: 'realty', 2: 'stocks', 3: 'education', 4: 'science', 5: 'society', 6: 'politics', 7: 'sports', 8: 'game', 9: 'entertainment'}\n",
      "count= 10000\n",
      "FastText训练数据预处理完毕!\n"
     ]
    }
   ],
   "execution_count": 10
  },
  {
   "metadata": {
    "ExecuteTime": {
     "end_time": "2025-04-22T14:23:53.723501Z",
     "start_time": "2025-04-22T14:12:41.850640Z"
    }
   },
   "cell_type": "code",
   "source": [
    "import fasttext\n",
    "import time\n",
    "\n",
    "train_data_path = 'train_fast.txt'\n",
    "dev_data_path = 'dev_fast.txt'\n",
    "test_data_path = 'test_fast.txt'\n",
    "\n",
    "# autotuneValidationFile参数需要指定验证数据集所在路径,\n",
    "# 它将在验证集上使用随机搜索方法寻找可能最优的超参数.\n",
    "# 使用autotuneDuration参数可以控制随机搜索的时间, 默认是300s,\n",
    "# 根据不同的需求, 我们可以延长或缩短时间.\n",
    "# verbose: 该参数决定日志打印级别, 当设置为3, 可以将当前正在尝试的超参数打印出来.\n",
    "model = fasttext.train_supervised(input=train_data_path,\n",
    "                                  autotuneValidationFile=dev_data_path,\n",
    "                                  autotuneDuration=600,\n",
    "                                  wordNgrams=2,\n",
    "                                  verbose=3)\n",
    "\n",
    "# 在测试集上评估模型的表现\n",
    "result = model.test(test_data_path)\n",
    "print(result)\n",
    "\n",
    "# 模型保存\n",
    "time1 = int(time.time())\n",
    "model_save_path = \"./toutiao_fasttext_{}.bin\".format(time1)\n",
    "model.save_model(model_save_path)"
   ],
   "id": "4d87c2dbbda44e18",
   "outputs": [
    {
     "name": "stdout",
     "output_type": "stream",
     "text": [
      "(10000, 0.9192, 0.9192)\n"
     ]
    }
   ],
   "execution_count": 11
  }
 ],
 "metadata": {
  "kernelspec": {
   "display_name": "Python 3",
   "language": "python",
   "name": "python3"
  },
  "language_info": {
   "codemirror_mode": {
    "name": "ipython",
    "version": 2
   },
   "file_extension": ".py",
   "mimetype": "text/x-python",
   "name": "python",
   "nbconvert_exporter": "python",
   "pygments_lexer": "ipython2",
   "version": "2.7.6"
  }
 },
 "nbformat": 4,
 "nbformat_minor": 5
}
