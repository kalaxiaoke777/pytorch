{
 "cells": [
  {
   "cell_type": "code",
   "id": "initial_id",
   "metadata": {
    "collapsed": true,
    "ExecuteTime": {
     "end_time": "2025-03-28T06:51:07.315779Z",
     "start_time": "2025-03-28T06:51:07.309949Z"
    }
   },
   "source": ".import torch",
   "outputs": [],
   "execution_count": 2
  },
  {
   "metadata": {
    "ExecuteTime": {
     "end_time": "2025-03-28T06:52:56.910615Z",
     "start_time": "2025-03-28T06:52:56.904616Z"
    }
   },
   "cell_type": "code",
   "source": [
    "23lpo0_P\"{\\|54\\【。x = torch.tensor([1.0, 2.0, 3.0], dtype=torch.float32)\n",
    "x_int = x.to(torch.int32)  # 转换为32位整数\n",
    "x_bool = x.to(torch.bool)  # 转换为布尔类型"
   ],
   "id": "b324d9c93ccad780",
   "outputs": [],
   "execution_count": 5
  },
  {
   "metadata": {
    "ExecuteTime": {
     "end_time": "2025-03-28T06:59:29.430984Z",
     "start_time": "2025-03-28T06:59:29.422741Z"
    }
   },
   "cell_type": "code",
   "source": "x_bool.shape,x_bool.size(0)",
   "id": "3a108f4f47f04309",
   "outputs": [
    {
     "data": {
      "text/plain": [
       "(torch.Size([3]), 3)"
      ]
     },
     "execution_count": 28,
     "metadata": {},
     "output_type": "execute_result"
    }
   ],
   "execution_count": 28
  },
  {
   "metadata": {
    "ExecuteTime": {
     "end_time": "2025-03-28T07:48:10.162838Z",
     "start_time": "2025-03-28T07:48:10.155538Z"
    }
   },
   "cell_type": "code",
   "source": [
    "tensor1 = torch.tensor([1, 2, 3, 4])\n",
    "tensor2 = torch.tensor([[1, 2], [3, 4]])\n",
    "tensor1,tensor2"
   ],
   "id": "951e14529feb6771",
   "outputs": [
    {
     "data": {
      "text/plain": [
       "(tensor([1, 2, 3, 4]),\n",
       " tensor([[1, 2],\n",
       "         [3, 4]]))"
      ]
     },
     "execution_count": 38,
     "metadata": {},
     "output_type": "execute_result"
    }
   ],
   "execution_count": 38
  },
  {
   "metadata": {
    "ExecuteTime": {
     "end_time": "2025-03-28T07:49:25.257710Z",
     "start_time": "2025-03-28T07:49:25.251019Z"
    }
   },
   "cell_type": "code",
   "source": [
    "zeros_tensor = torch.zeros(1,1,2,2,dtype=torch.int32)\n",
    "zeros_tensor"
   ],
   "id": "c71a4a4eb20db73a",
   "outputs": [
    {
     "data": {
      "text/plain": [
       "tensor([[[[0, 0],\n",
       "          [0, 0]]]], dtype=torch.int32)"
      ]
     },
     "execution_count": 48,
     "metadata": {},
     "output_type": "execute_result"
    }
   ],
   "execution_count": 48
  },
  {
   "metadata": {
    "ExecuteTime": {
     "end_time": "2025-03-28T07:49:48.400664Z",
     "start_time": "2025-03-28T07:49:48.392664Z"
    }
   },
   "cell_type": "code",
   "source": [
    "ones_tensor = torch.ones(2, 3,dtype=torch.int32)\n",
    "ones_tensor"
   ],
   "id": "d9f803bb48338feb",
   "outputs": [
    {
     "data": {
      "text/plain": [
       "tensor([[1, 1, 1],\n",
       "        [1, 1, 1]], dtype=torch.int32)"
      ]
     },
     "execution_count": 51,
     "metadata": {},
     "output_type": "execute_result"
    }
   ],
   "execution_count": 51
  },
  {
   "metadata": {
    "ExecuteTime": {
     "end_time": "2025-03-28T07:50:05.420499Z",
     "start_time": "2025-03-28T07:50:05.412764Z"
    }
   },
   "cell_type": "code",
   "source": [
    "empty_tensor = torch.empty(2, 3)\n",
    "empty_tensor"
   ],
   "id": "ff5946187353626f",
   "outputs": [
    {
     "data": {
      "text/plain": [
       "tensor([[4.6951e-10, 1.6774e-42, 0.0000e+00],\n",
       "        [1.1605e-05, 0.0000e+00, 2.0000e+00]])"
      ]
     },
     "execution_count": 53,
     "metadata": {},
     "output_type": "execute_result"
    }
   ],
   "execution_count": 53
  },
  {
   "metadata": {
    "ExecuteTime": {
     "end_time": "2025-03-28T07:51:33.569118Z",
     "start_time": "2025-03-28T07:51:33.560508Z"
    }
   },
   "cell_type": "code",
   "source": [
    "arange_tensor = torch.arange(1,4)\n",
    "arange_tensor\n",
    "\"\"\"tensor([1, 2, 3])\"\"\""
   ],
   "id": "136480d26466357a",
   "outputs": [
    {
     "data": {
      "text/plain": [
       "tensor([1, 2, 3])"
      ]
     },
     "execution_count": 61,
     "metadata": {},
     "output_type": "execute_result"
    }
   ],
   "execution_count": 61
  },
  {
   "metadata": {
    "ExecuteTime": {
     "end_time": "2025-03-28T07:52:33.680710Z",
     "start_time": "2025-03-28T07:52:33.674142Z"
    }
   },
   "cell_type": "code",
   "source": [
    "linspace_tensor = torch.linspace(0, 10, steps=10)\n",
    "linspace_tensor\n",
    "\"\"\"\n",
    "tensor([ 0.0000,  1.1111,  2.2222,  3.3333,  4.4444,  5.5556,  6.6667,  7.7778,\n",
    "         8.8889, 10.0000])\n",
    "\"\"\""
   ],
   "id": "42121b7f0bbfeb7a",
   "outputs": [
    {
     "data": {
      "text/plain": [
       "'\\ntensor([ 0.0000,  1.1111,  2.2222,  3.3333,  4.4444,  5.5556,  6.6667,  7.7778,\\n         8.8889, 10.0000])\\n'"
      ]
     },
     "execution_count": 80,
     "metadata": {},
     "output_type": "execute_result"
    }
   ],
   "execution_count": 80
  },
  {
   "metadata": {
    "ExecuteTime": {
     "end_time": "2025-03-28T07:56:42.301880Z",
     "start_time": "2025-03-28T07:56:42.293592Z"
    }
   },
   "cell_type": "code",
   "source": [
    "randn_tensor = torch.randn(2, 3)\n",
    "randn_tensor"
   ],
   "id": "660bc83895d0e40a",
   "outputs": [
    {
     "data": {
      "text/plain": [
       "tensor([[ 0.0458, -0.2628, -0.3973],\n",
       "        [-1.9562, -0.0519, -1.5559]])"
      ]
     },
     "execution_count": 83,
     "metadata": {},
     "output_type": "execute_result"
    }
   ],
   "execution_count": 83
  },
  {
   "metadata": {
    "ExecuteTime": {
     "end_time": "2025-03-28T07:57:10.158056Z",
     "start_time": "2025-03-28T07:57:10.147804Z"
    }
   },
   "cell_type": "code",
   "source": [
    "# 创建一个形状为 (2, 3) 的张量，填充值为 5\n",
    "full_tensor = torch.full((2, 3,4,4), 550)\n",
    "full_tensor"
   ],
   "id": "4d4c527a9ffe0084",
   "outputs": [
    {
     "data": {
      "text/plain": [
       "tensor([[[[550, 550, 550, 550],\n",
       "          [550, 550, 550, 550],\n",
       "          [550, 550, 550, 550],\n",
       "          [550, 550, 550, 550]],\n",
       "\n",
       "         [[550, 550, 550, 550],\n",
       "          [550, 550, 550, 550],\n",
       "          [550, 550, 550, 550],\n",
       "          [550, 550, 550, 550]],\n",
       "\n",
       "         [[550, 550, 550, 550],\n",
       "          [550, 550, 550, 550],\n",
       "          [550, 550, 550, 550],\n",
       "          [550, 550, 550, 550]]],\n",
       "\n",
       "\n",
       "        [[[550, 550, 550, 550],\n",
       "          [550, 550, 550, 550],\n",
       "          [550, 550, 550, 550],\n",
       "          [550, 550, 550, 550]],\n",
       "\n",
       "         [[550, 550, 550, 550],\n",
       "          [550, 550, 550, 550],\n",
       "          [550, 550, 550, 550],\n",
       "          [550, 550, 550, 550]],\n",
       "\n",
       "         [[550, 550, 550, 550],\n",
       "          [550, 550, 550, 550],\n",
       "          [550, 550, 550, 550],\n",
       "          [550, 550, 550, 550]]]])"
      ]
     },
     "execution_count": 89,
     "metadata": {},
     "output_type": "execute_result"
    }
   ],
   "execution_count": 89
  },
  {
   "metadata": {
    "ExecuteTime": {
     "end_time": "2025-03-28T07:58:29.263720Z",
     "start_time": "2025-03-28T07:58:29.256719Z"
    }
   },
   "cell_type": "code",
   "source": [
    "eye_tensor = torch.eye(3)\n",
    "print(eye_tensor)"
   ],
   "id": "15df6c8153af8f18",
   "outputs": [
    {
     "name": "stdout",
     "output_type": "stream",
     "text": [
      "tensor([[1., 0., 0.],\n",
      "        [0., 1., 0.],\n",
      "        [0., 0., 1.]])\n"
     ]
    }
   ],
   "execution_count": 91
  },
  {
   "metadata": {
    "ExecuteTime": {
     "end_time": "2025-03-28T07:58:30.091823Z",
     "start_time": "2025-03-28T07:58:30.084787Z"
    }
   },
   "cell_type": "code",
   "source": [
    "\n",
    "iag_elements = torch.tensor([1, 2, 3])\n",
    "\n",
    "# 使用 torch.diag() 创建对角矩阵;'\n",
    "\n",
    "diag_matrix = torch.diag(diag_elements)\n",
    "print(diag_matrix)"
   ],
   "id": "755a82c0a0c18c31",
   "outputs": [
    {
     "name": "stdout",
     "output_type": "stream",
     "text": [
      "tensor([[1, 0, 0],\n",
      "        [0, 2, 0],\n",
      "        [0, 0, 3]])\n"
     ]
    }
   ],
   "execution_count": 92
  }
 ],
 "metadata": {
  "kernelspec": {
   "display_name": "Python 3",
   "language": "python",
   "name": "python3"
  },
  "language_info": {
   "codemirror_mode": {
    "name": "ipython",
    "version": 2
   },
   "file_extension": ".py",
   "mimetype": "text/x-python",
   "name": "python",
   "nbconvert_exporter": "python",
   "pygments_lexer": "ipython2",
   "version": "2.7.6"
  }
 },
 "nbformat": 4,
 "nbformat_minor": 5
}
