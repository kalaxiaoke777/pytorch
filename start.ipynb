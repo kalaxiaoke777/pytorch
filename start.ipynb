{
 "cells": [
  {
   "cell_type": "code",
   "id": "initial_id",
   "metadata": {
    "collapsed": true,
    "ExecuteTime": {
     "end_time": "2025-03-31T02:33:49.994434Z",
     "start_time": "2025-03-31T02:33:49.989544Z"
    }
   },
   "source": ".import torch",
   "outputs": [],
   "execution_count": 5
  },
  {
   "metadata": {
    "ExecuteTime": {
     "end_time": "2025-03-31T02:33:50.018896Z",
     "start_time": "2025-03-31T02:33:50.012959Z"
    }
   },
   "cell_type": "code",
   "source": [
    "23lpo0_P\"{\\|54\\【。x = torch.tensor([1.0, 2.0, 3.0], dtype=torch.float32)\n",
    "x_int = x.to(torch.int32)  # 转换为32位整数\n",
    "x_bool = x.to(torch.bool)  # 转换为布尔类型"
   ],
   "id": "b324d9c93ccad780",
   "outputs": [],
   "execution_count": 6
  },
  {
   "metadata": {
    "ExecuteTime": {
     "end_time": "2025-03-31T02:33:50.037924Z",
     "start_time": "2025-03-31T02:33:50.029911Z"
    }
   },
   "cell_type": "code",
   "source": "x_bool.shape,x_bool.size(0)",
   "id": "3a108f4f47f04309",
   "outputs": [
    {
     "data": {
      "text/plain": [
       "(torch.Size([3]), 3)"
      ]
     },
     "execution_count": 7,
     "metadata": {},
     "output_type": "execute_result"
    }
   ],
   "execution_count": 7
  },
  {
   "metadata": {
    "ExecuteTime": {
     "end_time": "2025-03-31T02:33:50.111336Z",
     "start_time": "2025-03-31T02:33:50.102435Z"
    }
   },
   "cell_type": "code",
   "source": [
    "tensor1 = torch.tensor([1, 2, 3, 4])\n",
    "tensor2 = torch.tensor([[1, 2], [3, 4]])\n",
    "tensor1,tensor2"
   ],
   "id": "951e14529feb6771",
   "outputs": [
    {
     "data": {
      "text/plain": [
       "(tensor([1, 2, 3, 4]),\n",
       " tensor([[1, 2],\n",
       "         [3, 4]]))"
      ]
     },
     "execution_count": 8,
     "metadata": {},
     "output_type": "execute_result"
    }
   ],
   "execution_count": 8
  },
  {
   "metadata": {
    "ExecuteTime": {
     "end_time": "2025-03-31T02:33:50.179118Z",
     "start_time": "2025-03-31T02:33:50.170118Z"
    }
   },
   "cell_type": "code",
   "source": [
    "zeros_tensor = torch.zeros(1,1,2,2,dtype=torch.int32)\n",
    "zeros_tensor"
   ],
   "id": "c71a4a4eb20db73a",
   "outputs": [
    {
     "data": {
      "text/plain": [
       "tensor([[[[0, 0],\n",
       "          [0, 0]]]], dtype=torch.int32)"
      ]
     },
     "execution_count": 9,
     "metadata": {},
     "output_type": "execute_result"
    }
   ],
   "execution_count": 9
  },
  {
   "metadata": {
    "ExecuteTime": {
     "end_time": "2025-03-31T02:33:50.221894Z",
     "start_time": "2025-03-31T02:33:50.214669Z"
    }
   },
   "cell_type": "code",
   "source": [
    "ones_tensor = torch.ones(2, 3,dtype=torch.int32)\n",
    "ones_tensor"
   ],
   "id": "d9f803bb48338feb",
   "outputs": [
    {
     "data": {
      "text/plain": [
       "tensor([[1, 1, 1],\n",
       "        [1, 1, 1]], dtype=torch.int32)"
      ]
     },
     "execution_count": 10,
     "metadata": {},
     "output_type": "execute_result"
    }
   ],
   "execution_count": 10
  },
  {
   "metadata": {
    "ExecuteTime": {
     "end_time": "2025-03-31T02:33:50.281115Z",
     "start_time": "2025-03-31T02:33:50.272507Z"
    }
   },
   "cell_type": "code",
   "source": [
    "empty_tensor = torch.empty(2, 3)\n",
    "empty_tensor"
   ],
   "id": "ff5946187353626f",
   "outputs": [
    {
     "data": {
      "text/plain": [
       "tensor([[0., 0., 0.],\n",
       "        [0., 0., 0.]])"
      ]
     },
     "execution_count": 11,
     "metadata": {},
     "output_type": "execute_result"
    }
   ],
   "execution_count": 11
  },
  {
   "metadata": {
    "ExecuteTime": {
     "end_time": "2025-03-31T02:33:52.791261Z",
     "start_time": "2025-03-31T02:33:52.783131Z"
    }
   },
   "cell_type": "code",
   "source": [
    "arange_tensor = torch.arange(1,4)\n",
    "arange_tensor\n",
    "\"\"\"tensor([1, 2, 3])\"\"\""
   ],
   "id": "136480d26466357a",
   "outputs": [
    {
     "data": {
      "text/plain": [
       "'tensor([1, 2, 3])'"
      ]
     },
     "execution_count": 12,
     "metadata": {},
     "output_type": "execute_result"
    }
   ],
   "execution_count": 12
  },
  {
   "metadata": {
    "ExecuteTime": {
     "end_time": "2025-03-31T02:33:52.828921Z",
     "start_time": "2025-03-31T02:33:52.821258Z"
    }
   },
   "cell_type": "code",
   "source": [
    "linspace_tensor = torch.linspace(0, 10, steps=10)\n",
    "linspace_tensor\n",
    "\"\"\"\n",
    "tensor([ 0.0000,  1.1111,  2.2222,  3.3333,  4.4444,  5.5556,  6.6667,  7.7778,\n",
    "         8.8889, 10.0000])\n",
    "\"\"\""
   ],
   "id": "42121b7f0bbfeb7a",
   "outputs": [
    {
     "data": {
      "text/plain": [
       "'\\ntensor([ 0.0000,  1.1111,  2.2222,  3.3333,  4.4444,  5.5556,  6.6667,  7.7778,\\n         8.8889, 10.0000])\\n'"
      ]
     },
     "execution_count": 13,
     "metadata": {},
     "output_type": "execute_result"
    }
   ],
   "execution_count": 13
  },
  {
   "metadata": {
    "ExecuteTime": {
     "end_time": "2025-03-31T02:33:53.291480Z",
     "start_time": "2025-03-31T02:33:53.282435Z"
    }
   },
   "cell_type": "code",
   "source": [
    "randn_tensor = torch.randn(2, 3)\n",
    "randn_tensor"
   ],
   "id": "660bc83895d0e40a",
   "outputs": [
    {
     "data": {
      "text/plain": [
       "tensor([[ 0.4123, -1.0047,  0.7651],\n",
       "        [ 1.1695, -0.2113, -1.1708]])"
      ]
     },
     "execution_count": 14,
     "metadata": {},
     "output_type": "execute_result"
    }
   ],
   "execution_count": 14
  },
  {
   "metadata": {
    "ExecuteTime": {
     "end_time": "2025-03-31T02:33:53.770048Z",
     "start_time": "2025-03-31T02:33:53.759207Z"
    }
   },
   "cell_type": "code",
   "source": [
    "# 创建一个形状为 (2, 3) 的张量，填充值为 5\n",
    "full_tensor = torch.full((2, 3,4,4), 550)\n",
    "full_tensor"
   ],
   "id": "4d4c527a9ffe0084",
   "outputs": [
    {
     "data": {
      "text/plain": [
       "tensor([[[[550, 550, 550, 550],\n",
       "          [550, 550, 550, 550],\n",
       "          [550, 550, 550, 550],\n",
       "          [550, 550, 550, 550]],\n",
       "\n",
       "         [[550, 550, 550, 550],\n",
       "          [550, 550, 550, 550],\n",
       "          [550, 550, 550, 550],\n",
       "          [550, 550, 550, 550]],\n",
       "\n",
       "         [[550, 550, 550, 550],\n",
       "          [550, 550, 550, 550],\n",
       "          [550, 550, 550, 550],\n",
       "          [550, 550, 550, 550]]],\n",
       "\n",
       "\n",
       "        [[[550, 550, 550, 550],\n",
       "          [550, 550, 550, 550],\n",
       "          [550, 550, 550, 550],\n",
       "          [550, 550, 550, 550]],\n",
       "\n",
       "         [[550, 550, 550, 550],\n",
       "          [550, 550, 550, 550],\n",
       "          [550, 550, 550, 550],\n",
       "          [550, 550, 550, 550]],\n",
       "\n",
       "         [[550, 550, 550, 550],\n",
       "          [550, 550, 550, 550],\n",
       "          [550, 550, 550, 550],\n",
       "          [550, 550, 550, 550]]]])"
      ]
     },
     "execution_count": 15,
     "metadata": {},
     "output_type": "execute_result"
    }
   ],
   "execution_count": 15
  },
  {
   "metadata": {
    "ExecuteTime": {
     "end_time": "2025-03-31T02:34:02.920159Z",
     "start_time": "2025-03-31T02:34:02.913260Z"
    }
   },
   "cell_type": "code",
   "source": [
    "eye_tensor = torch.eye(3)\n",
    "print(eye_tensor)"
   ],
   "id": "15df6c8153af8f18",
   "outputs": [
    {
     "name": "stdout",
     "output_type": "stream",
     "text": [
      "tensor([[1., 0., 0.],\n",
      "        [0., 1., 0.],\n",
      "        [0., 0., 1.]])\n"
     ]
    }
   ],
   "execution_count": 18
  },
  {
   "metadata": {
    "ExecuteTime": {
     "end_time": "2025-03-31T02:33:55.439830Z",
     "start_time": "2025-03-31T02:33:54.391286Z"
    }
   },
   "cell_type": "code",
   "source": [
    "\n",
    "iag_elements = torch.tensor([1, 2, 3])\n",
    "\n",
    "# 使用 torch.diag() 创建对角矩阵;'\n",
    "\n",
    "diag_matrix = torch.diag(diag_elements)\n",
    "print(diag_matrix)"
   ],
   "id": "755a82c0a0c18c31",
   "outputs": [
    {
     "ename": "NameError",
     "evalue": "name 'diag_elements' is not defined",
     "output_type": "error",
     "traceback": [
      "\u001B[1;31m---------------------------------------------------------------------------\u001B[0m",
      "\u001B[1;31mNameError\u001B[0m                                 Traceback (most recent call last)",
      "Cell \u001B[1;32mIn[17], line 5\u001B[0m\n\u001B[0;32m      1\u001B[0m iag_elements \u001B[38;5;241m=\u001B[39m torch\u001B[38;5;241m.\u001B[39mtensor([\u001B[38;5;241m1\u001B[39m, \u001B[38;5;241m2\u001B[39m, \u001B[38;5;241m3\u001B[39m])\n\u001B[0;32m      3\u001B[0m \u001B[38;5;66;03m# 使用 torch.diag() 创建对角矩阵;'\u001B[39;00m\n\u001B[1;32m----> 5\u001B[0m diag_matrix \u001B[38;5;241m=\u001B[39m torch\u001B[38;5;241m.\u001B[39mdiag(diag_elements)\n\u001B[0;32m      6\u001B[0m \u001B[38;5;28mprint\u001B[39m(diag_matrix)\n",
      "\u001B[1;31mNameError\u001B[0m: name 'diag_elements' is not defined"
     ]
    }
   ],
   "execution_count": 17
  }
 ],
 "metadata": {
  "kernelspec": {
   "display_name": "Python 3",
   "language": "python",
   "name": "python3"
  },
  "language_info": {
   "codemirror_mode": {
    "name": "ipython",
    "version": 2
   },
   "file_extension": ".py",
   "mimetype": "text/x-python",
   "name": "python",
   "nbconvert_exporter": "python",
   "pygments_lexer": "ipython2",
   "version": "2.7.6"
  }
 },
 "nbformat": 4,
 "nbformat_minor": 5
}
