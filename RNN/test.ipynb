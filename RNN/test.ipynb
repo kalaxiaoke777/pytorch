{
 "cells": [
  {
   "metadata": {},
   "cell_type": "code",
   "outputs": [],
   "execution_count": null,
   "source": [
    "import torch\n",
    "import torch.nn as nn"
   ],
   "id": "24953035564c5a48"
  },
  {
   "metadata": {},
   "cell_type": "code",
   "outputs": [],
   "execution_count": null,
   "source": [
    "rnn = nn.LSTM(5, 6, 1)\n",
    "input = torch.randn(1, 3, 5)\n",
    "h0 = torch.randn(1, 3, 6)\n",
    "output, hn = rnn(input, h0)"
   ],
   "id": "1c60bce2af9bcb20"
  },
  {
   "metadata": {},
   "cell_type": "code",
   "outputs": [],
   "execution_count": null,
   "source": "output, hn",
   "id": "aebc56b359bf1515"
  }
 ],
 "metadata": {},
 "nbformat": 5,
 "nbformat_minor": 9
}
