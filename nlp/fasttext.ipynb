{
 "cells": [
  {
   "cell_type": "code",
   "id": "initial_id",
   "metadata": {
    "collapsed": true,
    "ExecuteTime": {
     "end_time": "2025-04-05T14:19:14.863438Z",
     "start_time": "2025-04-05T14:19:14.805808Z"
    }
   },
   "source": "import fasttext",
   "outputs": [],
   "execution_count": 1
  },
  {
   "metadata": {
    "ExecuteTime": {
     "end_time": "2025-04-05T14:33:42.091076Z",
     "start_time": "2025-04-05T14:19:14.865890Z"
    }
   },
   "cell_type": "code",
   "source": "model1 = fasttext.train_unsupervised('data/fil9')",
   "id": "3812c374b05bee86",
   "outputs": [],
   "execution_count": 2
  },
  {
   "metadata": {
    "ExecuteTime": {
     "end_time": "2025-04-05T14:36:01.937715Z",
     "start_time": "2025-04-05T14:36:01.174762Z"
    }
   },
   "cell_type": "code",
   "source": "model1.save_model('data/fil9_model.bin')",
   "id": "46751c3a9fb44d8b",
   "outputs": [],
   "execution_count": 5
  },
  {
   "metadata": {
    "ExecuteTime": {
     "end_time": "2025-04-05T14:36:19.977562Z",
     "start_time": "2025-04-05T14:36:19.107854Z"
    }
   },
   "cell_type": "code",
   "source": "model = fasttext.load_model(\"data/fil9_model.bin\")",
   "id": "1d4c65df37a4a7f1",
   "outputs": [],
   "execution_count": 8
  },
  {
   "metadata": {
    "ExecuteTime": {
     "end_time": "2025-04-05T14:37:12.906118Z",
     "start_time": "2025-04-05T14:37:12.899238Z"
    }
   },
   "cell_type": "code",
   "source": "model.get_word_vector(\"that\")",
   "id": "e7edae93e16dd452",
   "outputs": [
    {
     "data": {
      "text/plain": [
       "array([ 0.36107165,  0.12275917,  0.13383582, -0.18386091, -0.12186822,\n",
       "        0.07953697, -0.06986894,  0.04233895, -0.39946637,  0.06708288,\n",
       "        0.15342669,  0.06565484,  0.01242516,  0.14653845,  0.12335166,\n",
       "       -0.1404353 , -0.24263725,  0.04225976,  0.08368152, -0.3828776 ,\n",
       "       -0.11959217,  0.11470401,  0.01223392, -0.02836774,  0.14545596,\n",
       "        0.01868274, -0.04567584, -0.22759469,  0.05021916,  0.1642631 ,\n",
       "        0.0062088 ,  0.0356546 ,  0.24703091, -0.01180895, -0.13525832,\n",
       "        0.11345038, -0.08231355,  0.24907157, -0.13329025, -0.07721008,\n",
       "        0.16356938,  0.3006624 ,  0.21254885, -0.09180876, -0.00711765,\n",
       "       -0.3918105 , -0.03180118, -0.01460851, -0.15444596, -0.02849366,\n",
       "       -0.06691386, -0.14081863,  0.13078794, -0.09090112, -0.04711026,\n",
       "       -0.02315136, -0.08744425, -0.07444805, -0.18617977,  0.14069684,\n",
       "       -0.2830127 , -0.02063281, -0.03861403, -0.31217977, -0.11399315,\n",
       "        0.32956848, -0.04098679, -0.05688932, -0.14272547, -0.0709481 ,\n",
       "       -0.3619071 , -0.07471268,  0.1018675 , -0.18515424,  0.25922734,\n",
       "        0.43207052, -0.08050101,  0.23258331, -0.12638675,  0.29596972,\n",
       "        0.09954595,  0.23268197,  0.21551764,  0.03213723,  0.0740086 ,\n",
       "        0.15193677, -0.04877814,  0.02379225, -0.08746494, -0.00564576,\n",
       "        0.09700167,  0.14798775,  0.14377528, -0.02024751, -0.08611409,\n",
       "       -0.38519135,  0.04430141,  0.07903776,  0.16981219, -0.27858374],\n",
       "      dtype=float32)"
      ]
     },
     "execution_count": 19,
     "metadata": {},
     "output_type": "execute_result"
    }
   ],
   "execution_count": 19
  },
  {
   "metadata": {
    "ExecuteTime": {
     "end_time": "2025-04-05T14:37:49.973202Z",
     "start_time": "2025-04-05T14:37:49.947840Z"
    }
   },
   "cell_type": "code",
   "source": "model.get_nearest_neighbors('cell')",
   "id": "4c8072b07dc7f249",
   "outputs": [
    {
     "data": {
      "text/plain": [
       "[(0.8923680782318115, 'cells'),\n",
       " (0.8454821109771729, 'cellulase'),\n",
       " (0.8257521986961365, 'megakaryocytes'),\n",
       " (0.8211060166358948, 'subcellular'),\n",
       " (0.8151086568832397, 'acellular'),\n",
       " (0.8131318092346191, 'intracellular'),\n",
       " (0.810633659362793, 'gametocytes'),\n",
       " (0.805360734462738, 'myocytes'),\n",
       " (0.8010806441307068, 'oocytes'),\n",
       " (0.800258457660675, 'oocyte')]"
      ]
     },
     "execution_count": 26,
     "metadata": {},
     "output_type": "execute_result"
    }
   ],
   "execution_count": 26
  }
 ],
 "metadata": {
  "kernelspec": {
   "display_name": "Python 3",
   "language": "python",
   "name": "python3"
  },
  "language_info": {
   "codemirror_mode": {
    "name": "ipython",
    "version": 2
   },
   "file_extension": ".py",
   "mimetype": "text/x-python",
   "name": "python",
   "nbconvert_exporter": "python",
   "pygments_lexer": "ipython2",
   "version": "2.7.6"
  }
 },
 "nbformat": 4,
 "nbformat_minor": 5
}
