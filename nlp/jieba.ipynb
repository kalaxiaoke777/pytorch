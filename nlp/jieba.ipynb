{
 "cells": [
  {
   "cell_type": "code",
   "id": "initial_id",
   "metadata": {
    "collapsed": true,
    "ExecuteTime": {
     "end_time": "2025-04-05T13:42:47.635773Z",
     "start_time": "2025-04-05T13:42:47.630723Z"
    }
   },
   "source": [
    "import jieba\n",
    "jieba.load_userdict(\"user_dict.txt\")\n",
    "seg_list = jieba.cut(\"他来到了网易杭研大厦\",cut_all=False)  # 默认是精确模式\n",
    "print(\", \".join(seg_list))"
   ],
   "outputs": [
    {
     "name": "stdout",
     "output_type": "stream",
     "text": [
      "他, 来到, 了, 网易, 杭研大厦\n"
     ]
    }
   ],
   "execution_count": 28
  },
  {
   "metadata": {
    "ExecuteTime": {
     "end_time": "2025-04-05T13:42:47.667395Z",
     "start_time": "2025-04-05T13:42:47.664004Z"
    }
   },
   "cell_type": "code",
   "source": "print(\"Full Mode: \" + \"/ \".join(seg_list))  # 全模式",
   "id": "7153e4c4dcaa17b9",
   "outputs": [
    {
     "name": "stdout",
     "output_type": "stream",
     "text": [
      "Full Mode: \n"
     ]
    }
   ],
   "execution_count": 29
  }
 ],
 "metadata": {
  "kernelspec": {
   "display_name": "Python 3",
   "language": "python",
   "name": "python3"
  },
  "language_info": {
   "codemirror_mode": {
    "name": "ipython",
    "version": 2
   },
   "file_extension": ".py",
   "mimetype": "text/x-python",
   "name": "python",
   "nbconvert_exporter": "python",
   "pygments_lexer": "ipython2",
   "version": "2.7.6"
  }
 },
 "nbformat": 4,
 "nbformat_minor": 5
}
